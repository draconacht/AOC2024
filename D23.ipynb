{
 "cells": [
  {
   "cell_type": "code",
   "metadata": {},
   "source": [
    "inp=\"\"\"kh-tc\n",
    "qp-kh\n",
    "de-cg\n",
    "ka-co\n",
    "yn-aq\n",
    "qp-ub\n",
    "cg-tb\n",
    "vc-aq\n",
    "tb-ka\n",
    "wh-tc\n",
    "yn-cg\n",
    "kh-ub\n",
    "ta-co\n",
    "de-co\n",
    "tc-td\n",
    "tb-wq\n",
    "wh-td\n",
    "ta-ka\n",
    "td-qp\n",
    "aq-cg\n",
    "wq-ub\n",
    "ub-vc\n",
    "de-ta\n",
    "wq-aq\n",
    "wq-vc\n",
    "wh-yn\n",
    "ka-de\n",
    "kh-ta\n",
    "co-tc\n",
    "wh-qp\n",
    "tb-vc\n",
    "td-yn\"\"\""
   ],
   "outputs": [],
   "execution_count": null
  },
  {
   "cell_type": "code",
   "metadata": {},
   "source": [
    "with open(\"D23_inp.txt\") as fl:\n",
    "  inp = fl.read()"
   ],
   "outputs": [],
   "execution_count": null
  },
  {
   "cell_type": "code",
   "metadata": {},
   "source": [
    "data = [x.split(\"-\") for x in inp.splitlines()]"
   ],
   "outputs": [],
   "execution_count": null
  },
  {
   "cell_type": "code",
   "metadata": {},
   "source": [
    "from collections import *\n",
    "\n",
    "peers = defaultdict(set)\n",
    "visited = set()"
   ],
   "outputs": [],
   "execution_count": null
  },
  {
   "cell_type": "code",
   "metadata": {},
   "source": [
    "for peer0, peer1 in data:\n",
    "  peers[peer0].add(peer1)\n",
    "  peers[peer1].add(peer0)"
   ],
   "outputs": [],
   "execution_count": null
  },
  {
   "cell_type": "code",
   "metadata": {},
   "source": [
    "cycles = set()\n",
    "for node in peers:\n",
    "  if not node.startswith('t'): continue\n",
    "\n",
    "  for peer_1 in peers[node]:\n",
    "    for peer_2 in peers[peer_1]:\n",
    "      if peer_2 in peers[node]:\n",
    "        cycles.add(tuple(sorted([node, peer_1, peer_2])))"
   ],
   "outputs": [],
   "execution_count": null
  },
  {
   "cell_type": "code",
   "metadata": {},
   "source": [
    "len(cycles)"
   ],
   "outputs": [],
   "execution_count": null
  },
  {
   "cell_type": "markdown",
   "metadata": {},
   "source": [
    "part 2"
   ]
  },
  {
   "cell_type": "code",
   "metadata": {},
   "source": [
    "from functools import cache\n",
    "checked = set()\n",
    "party_cache = {}\n",
    "\n",
    "def longest_party(node, party: frozenset):\n",
    "  if party in party_cache: return party_cache[party]\n",
    "\n",
    "  max_party = party.copy()\n",
    "  # print(node, party)\n",
    "\n",
    "  for peer in (peers[node] - party) - checked:\n",
    "    if party - peers[peer]: continue \n",
    "\n",
    "    new_party = longest_party(peer, party | {peer})\n",
    "    if len(new_party) > len(max_party):\n",
    "      max_party = new_party\n",
    "\n",
    "\n",
    "  # print(node, party, max_party)\n",
    "  party_cache[party] = max_party\n",
    "  return max_party"
   ],
   "outputs": [],
   "execution_count": null
  },
  {
   "cell_type": "code",
   "metadata": {},
   "source": [
    "max_party = set()\n",
    "checked = set()\n",
    "for node in peers:\n",
    "  checked.add(node)\n",
    "  party = longest_party(node, frozenset([node]))\n",
    "  # print(party)\n",
    "  max_party = max(max_party, party, key=lambda x: len(x))"
   ],
   "outputs": [],
   "execution_count": null
  },
  {
   "cell_type": "code",
   "metadata": {},
   "source": [
    "','.join(sorted(max_party))"
   ],
   "outputs": [],
   "execution_count": null
  }
 ],
 "metadata": {
  "kernelspec": {
   "display_name": ".venv",
   "language": "python",
   "name": "python3"
  },
  "language_info": {
   "codemirror_mode": {
    "name": "ipython",
    "version": 3
   },
   "file_extension": ".py",
   "mimetype": "text/x-python",
   "name": "python",
   "nbconvert_exporter": "python",
   "pygments_lexer": "ipython3",
   "version": "3.13.0"
  }
 },
 "nbformat": 4,
 "nbformat_minor": 2
}
