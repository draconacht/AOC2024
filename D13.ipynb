{
 "cells": [
  {
   "metadata": {},
   "cell_type": "code",
   "outputs": [],
   "execution_count": null,
   "source": [
    "import re\n",
    "from collections import namedtuple\n",
    "from itertools import *\n",
    "\n",
    "with open('D13_inp.txt') as fl:\n",
    "\tinp = fl.read()"
   ],
   "id": "ce917b4d8070437c"
  },
  {
   "metadata": {},
   "cell_type": "code",
   "outputs": [],
   "execution_count": null,
   "source": [
    "\n",
    "Machine = namedtuple('Machine', ['a', 'b', 'prize'])\n",
    "Button = namedtuple('Button', ['x', 'y'])\n",
    "Prize = namedtuple('Prize', ['x', 'y'])\n",
    "\n",
    "get_xy = re.compile(r'^.X.(\\d+), Y.(\\d+).$')"
   ],
   "id": "b6424bf2de08d2ed"
  },
  {
   "metadata": {},
   "cell_type": "code",
   "outputs": [],
   "execution_count": null,
   "source": [
    "machines = []\n",
    "\n",
    "for batch in batched(inp.splitlines(), 4):\n",
    "\ta = Button(*map(int, re.match(get_xy, batch[0]).groups()))\n",
    "\tb = Button(*map(int, re.match(get_xy, batch[1]).groups()))\n",
    "\tprize = Prize(*map(int, re.match(get_xy, batch[2]).groups()))\n",
    "\t# prize = Prize(10000000000000 + prize.x, 10000000000000 + prize.y)  # uncomment for part 2\n",
    "\tmachines.append(Machine(a, b, prize))\n"
   ],
   "id": "6a63dddf1bc32a6e"
  },
  {
   "cell_type": "code",
   "execution_count": null,
   "id": "initial_id",
   "metadata": {
    "collapsed": true
   },
   "outputs": [],
   "source": [
    "s = 0\n",
    "for a, b, prize in machines:\n",
    "  x = (prize.x * b.y - prize.y * b.x) / (a.x * b.y - b.x * a.y)\n",
    "  y = (prize.y * a.x - prize.x * a.y) / (a.x * b.y - b.x * a.y)\n",
    "  if int(x) != x or int(y) != y:\n",
    "    continue\n",
    "  s += 3 * x + y\n",
    "\n",
    "# %%\n",
    "print(int(s))"
   ]
  }
 ],
 "metadata": {
  "kernelspec": {
   "display_name": "Python 3",
   "language": "python",
   "name": "python3"
  },
  "language_info": {
   "codemirror_mode": {
    "name": "ipython",
    "version": 2
   },
   "file_extension": ".py",
   "mimetype": "text/x-python",
   "name": "python",
   "nbconvert_exporter": "python",
   "pygments_lexer": "ipython2",
   "version": "2.7.6"
  }
 },
 "nbformat": 4,
 "nbformat_minor": 5
}
