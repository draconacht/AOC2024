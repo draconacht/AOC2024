{
 "cells": [
  {
   "cell_type": "code",
   "id": "initial_id",
   "metadata": {
    "collapsed": true
   },
   "source": "inp = list(map(int, \"2333133121414131402\"))",
   "outputs": [],
   "execution_count": null
  },
  {
   "metadata": {},
   "cell_type": "code",
   "source": [
    "with open(\"D09_inp.txt\") as fl:\n",
    "\tinp = list(map(int, fl.read()))"
   ],
   "id": "ed84acf73ca9b2fa",
   "outputs": [],
   "execution_count": null
  },
  {
   "metadata": {},
   "cell_type": "code",
   "source": "len(inp)",
   "id": "472f9c65a850c7a9",
   "outputs": [],
   "execution_count": null
  },
  {
   "metadata": {},
   "cell_type": "code",
   "source": "from itertools import *",
   "id": "3e93b7cb7081d84b",
   "outputs": [],
   "execution_count": null
  },
  {
   "metadata": {},
   "cell_type": "markdown",
   "source": "part 1",
   "id": "91c8dd572b044310"
  },
  {
   "metadata": {},
   "cell_type": "code",
   "source": [
    "plugs_rev = ((len(inp)//2-i, k) for i, k in enumerate(islice(reversed(inp), 0, len(inp), 2)))\n",
    "plugs = enumerate(islice(inp, 0, len(inp), 2))\n",
    "holes = islice(inp, 1, len(inp), 2)\n",
    "\n",
    "hole_size = 0\n",
    "plug_val, plug_size = 0, 0\n",
    "r_plug_val, r_plug_size = len(inp), 0\n",
    "checksum = 0\n",
    "REVERSE_GEAR = True\n",
    "path = \"\"\n",
    "for i in count():\n",
    "\twhile not(hole_size > 0 or plug_size > 0):\n",
    "\t\tif hole_size == 0 and REVERSE_GEAR:\n",
    "\t\t\tplug_val, plug_size = next(plugs, (-1, -1))\n",
    "\t\t\tprint(\">\", plug_val, plug_size)\n",
    "\t\t\tREVERSE_GEAR = False\n",
    "\t\tif plug_size == 0 and not REVERSE_GEAR:\n",
    "\t\t\thole_size = next(holes, -1)\n",
    "\t\t\tprint(\"<\", hole_size)\n",
    "\t\t\tREVERSE_GEAR = True\n",
    "\twhile r_plug_size == 0 and REVERSE_GEAR:\n",
    "\t\tr_plug_val, r_plug_size = next(plugs_rev, (-1, -1))\n",
    "\t\tprint(\"-\", r_plug_val, r_plug_size)\n",
    "\t\t\n",
    "\tif plug_val == r_plug_val:\n",
    "\t\tif REVERSE_GEAR: break\n",
    "\t\thole_size = r_plug_size\n",
    "\t\tREVERSE_GEAR = True\n",
    "\tif plug_val > r_plug_val:  break \n",
    "\t\n",
    "\tif REVERSE_GEAR:\n",
    "\t\tchecksum += i * r_plug_val\n",
    "\t\tpath += str(r_plug_val) + \".\"\n",
    "\t\thole_size, r_plug_size = hole_size - 1, r_plug_size -1\n",
    "\telse:\n",
    "\t\tchecksum += i * plug_val\n",
    "\t\tpath += str(plug_val) + \".\"\n",
    "\t\tplug_size -= 1\n",
    "\t# print(i, checksum)\n",
    "print(checksum)"
   ],
   "id": "fc88b4ddee1df454",
   "outputs": [],
   "execution_count": null
  },
  {
   "metadata": {},
   "cell_type": "markdown",
   "source": "cleaned",
   "id": "c14aa2364dc43d22"
  },
  {
   "metadata": {},
   "cell_type": "code",
   "source": [
    "plugs_rev = ((len(inp)//2-i, k) for i, k in enumerate(islice(reversed(inp), 0, len(inp), 2)))\n",
    "plugs = enumerate(islice(inp, 0, len(inp), 2))\n",
    "holes = islice(inp, 1, len(inp), 2)\n",
    "\n",
    "hole_size = 0\n",
    "plug_val, plug_size = 0, 0\n",
    "r_plug_val, r_plug_size = len(inp), 0\n",
    "checksum = 0\n",
    "REVERSE_GEAR = True\n",
    "path = \"\"\n",
    "for i in count():\n",
    "\twhile not(hole_size > 0 or plug_size > 0):\n",
    "\t\tif hole_size == 0 and REVERSE_GEAR:\n",
    "\t\t\tplug_val, plug_size = next(plugs, (-1, -1))\n",
    "\t\t\tREVERSE_GEAR = False\n",
    "\t\tif plug_size == 0 and not REVERSE_GEAR:\n",
    "\t\t\thole_size = next(holes, -1)\n",
    "\t\t\tREVERSE_GEAR = True\n",
    "\twhile r_plug_size == 0 and REVERSE_GEAR:\n",
    "\t\tr_plug_val, r_plug_size = next(plugs_rev, (-1, -1))\n",
    "\t\t\n",
    "\tif plug_val == r_plug_val:\n",
    "\t\tif REVERSE_GEAR: break\n",
    "\t\thole_size = r_plug_size\n",
    "\t\tREVERSE_GEAR = True\n",
    "\tif plug_val > r_plug_val:  break \n",
    "\t\n",
    "\tif REVERSE_GEAR:\n",
    "\t\tchecksum += i * r_plug_val\n",
    "\t\thole_size, r_plug_size = hole_size - 1, r_plug_size -1\n",
    "\telse:\n",
    "\t\tchecksum += i * plug_val\n",
    "\t\tplug_size -= 1\n"
   ],
   "id": "301227a216e3a5de",
   "outputs": [],
   "execution_count": null
  },
  {
   "metadata": {},
   "cell_type": "markdown",
   "source": "part 2",
   "id": "e2ac0437d0533708"
  },
  {
   "metadata": {},
   "cell_type": "code",
   "source": [
    "plugs = inp[0::2]\n",
    "holes = inp[1::2]\n",
    "disk = []\n",
    "\n",
    "for i, (plug, hole) in enumerate(batched(inp+[0], 2)):\n",
    "\tif plug: disk.append((i, plug))\n",
    "\tif hole: disk.append((-1, hole))"
   ],
   "id": "76c88074b41a0e9d",
   "outputs": [],
   "execution_count": null
  },
  {
   "metadata": {},
   "cell_type": "code",
   "source": [
    "i = 0\n",
    "while i < len(disk):\n",
    "\ti += 1\n",
    "\tr_val, r_size = disk[-i]\n",
    "\tif r_val < 0: continue\n",
    "\tfor j, (v, h_size) in enumerate(disk[:-i]):\n",
    "\t\tif v != -1 or h_size < r_size: continue\n",
    "\t\tdisk[j] = (r_val, r_size)\n",
    "\t\tdisk[-i] = (-1, r_size)\n",
    "\t\tif h_size > r_size: disk.insert(j+1, (-1, h_size-r_size))\n",
    "\t\tbreak"
   ],
   "id": "81915a97c6005e45",
   "outputs": [],
   "execution_count": null
  },
  {
   "metadata": {},
   "cell_type": "code",
   "source": [
    "i = 0\n",
    "checksum = 0\n",
    "for block_val, block_size in disk:\n",
    "\tif block_val <= 0: \n",
    "\t\ti += block_size\n",
    "\t\tcontinue\n",
    "\twhile block_size > 0:\n",
    "\t\tchecksum += i * block_val\n",
    "\t\ti += 1\n",
    "\t\tblock_size -= 1\n",
    "print(checksum)"
   ],
   "id": "ab42470c0167c352",
   "outputs": [],
   "execution_count": null
  }
 ],
 "metadata": {
  "kernelspec": {
   "display_name": "Python 3",
   "language": "python",
   "name": "python3"
  },
  "language_info": {
   "codemirror_mode": {
    "name": "ipython",
    "version": 2
   },
   "file_extension": ".py",
   "mimetype": "text/x-python",
   "name": "python",
   "nbconvert_exporter": "python",
   "pygments_lexer": "ipython2",
   "version": "2.7.6"
  }
 },
 "nbformat": 4,
 "nbformat_minor": 5
}
