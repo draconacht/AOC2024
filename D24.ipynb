{
 "cells": [
  {
   "cell_type": "code",
   "metadata": {},
   "source": [
    "with open(\"D24_inp.txt\") as fl:\n",
    "    inp = fl.read()"
   ],
   "outputs": [],
   "execution_count": null
  },
  {
   "cell_type": "code",
   "metadata": {},
   "source": [
    "inp = \"\"\"x00: 1\n",
    "x01: 0\n",
    "x02: 1\n",
    "x03: 1\n",
    "x04: 0\n",
    "y00: 1\n",
    "y01: 1\n",
    "y02: 1\n",
    "y03: 1\n",
    "y04: 1\n",
    "\n",
    "ntg XOR fgs -> mjb\n",
    "y02 OR x01 -> tnw\n",
    "kwq OR kpj -> z05\n",
    "x00 OR x03 -> fst\n",
    "tgd XOR rvg -> z01\n",
    "vdt OR tnw -> bfw\n",
    "bfw AND frj -> z10\n",
    "ffh OR nrd -> bqk\n",
    "y00 AND y03 -> djm\n",
    "y03 OR y00 -> psh\n",
    "bqk OR frj -> z08\n",
    "tnw OR fst -> frj\n",
    "gnj AND tgd -> z11\n",
    "bfw XOR mjb -> z00\n",
    "x03 OR x00 -> vdt\n",
    "gnj AND wpb -> z02\n",
    "x04 AND y00 -> kjc\n",
    "djm OR pbm -> qhw\n",
    "nrd AND vdt -> hwm\n",
    "kjc AND fst -> rvg\n",
    "y04 OR y02 -> fgs\n",
    "y01 AND x02 -> pbm\n",
    "ntg OR kjc -> kwq\n",
    "psh XOR fgs -> tgd\n",
    "qhw XOR tgd -> z09\n",
    "pbm OR djm -> kpj\n",
    "x03 XOR y03 -> ffh\n",
    "x00 XOR y04 -> ntg\n",
    "bfw OR bqk -> z06\n",
    "nrd XOR fgs -> wpb\n",
    "frj XOR qhw -> z04\n",
    "bqk OR frj -> z07\n",
    "y03 OR x01 -> nrd\n",
    "hwm AND bqk -> z03\n",
    "tgd XOR rvg -> z12\n",
    "tnw OR pbm -> gnj\"\"\""
   ],
   "outputs": [],
   "execution_count": null
  },
  {
   "cell_type": "code",
   "metadata": {},
   "source": [
    "from collections import namedtuple\n",
    "\n",
    "Command = namedtuple('Command', ['opcode', 'i0', 'i1', 'out'])\n",
    "\n",
    "start_state, _, commands = inp.partition('\\n\\n')\n",
    "start_state = {line.partition(\":\")[0]:int(line.rpartition(\": \")[-1]) for line in start_state.splitlines()}\n",
    "\n",
    "cmd = []\n",
    "for command in commands.splitlines():\n",
    "    tokens = command.split(\" \")\n",
    "    cmd.append(Command(tokens[1], tokens[0], tokens[2], tokens[-1]))\n"
   ],
   "outputs": [],
   "execution_count": null
  },
  {
   "cell_type": "code",
   "metadata": {},
   "source": [
    "start_state, cmd"
   ],
   "outputs": [],
   "execution_count": null
  },
  {
   "cell_type": "code",
   "metadata": {},
   "source": [
    "from collections import *\n",
    "\n",
    "deps = defaultdict(list)\n",
    "for command in cmd:\n",
    "    deps[command.out].append(command)\n"
   ],
   "outputs": [],
   "execution_count": null
  },
  {
   "cell_type": "code",
   "metadata": {},
   "source": [
    "from operator import *\n",
    "from functools import cache\n",
    "\n",
    "ops = {'XOR': xor, 'OR': or_, 'AND': and_}\n",
    "\n",
    "@cache\n",
    "def fetch(reg):\n",
    "    if reg in start_state: return start_state[reg]\n",
    "\n",
    "    toret = False\n",
    "    for opc, i0, i1, _ in deps[reg]:\n",
    "        toret |= ops[opc](fetch(i0), fetch(i1))\n",
    "\n",
    "    return toret\n"
   ],
   "outputs": [],
   "execution_count": null
  },
  {
   "cell_type": "code",
   "metadata": {},
   "source": [
    "zs = {}\n",
    "for z in (k for k in deps.keys() if k.startswith('z')):\n",
    "    zs[z] = fetch(z)"
   ],
   "outputs": [],
   "execution_count": null
  },
  {
   "cell_type": "code",
   "metadata": {},
   "source": [
    "int(''.join(str(x[1]) for x in sorted(zs.items(), reverse=True)), base=2)"
   ],
   "outputs": [],
   "execution_count": null
  },
  {
   "cell_type": "code",
   "metadata": {},
   "source": [
    "zs"
   ],
   "outputs": [],
   "execution_count": null
  },
  {
   "cell_type": "code",
   "metadata": {},
   "source": [
    "from itertools import *\n",
    "\n",
    "it = list(start_state.items())\n",
    "x, y = [a[1] for a in it[:len(it)//2]], [a[1] for a in it[len(it)//2:]]\n",
    "x, y"
   ],
   "outputs": [],
   "execution_count": null
  },
  {
   "cell_type": "code",
   "metadata": {},
   "source": [
    "def X(i): return x[i]\n",
    "def Y(i): return y[i]\n",
    "def Z(i): return zs[f'z{i:02}']\n",
    "\n",
    "def S(i):\n",
    "    return (X(i) ^ Y(i)) ^ C(i)\n",
    "\n",
    "@cache\n",
    "def C(i):\n",
    "    if i == 0: return 0\n",
    "    if i == 1: return X(0) & Y(0)\n",
    "    return ((X(i-1) ^ Y(i-1)) & C(i-1)) | (X(i-1) & Y(i-1)) "
   ],
   "outputs": [],
   "execution_count": null
  },
  {
   "cell_type": "code",
   "metadata": {},
   "source": [
    "for i in range(len(it)//2):\n",
    "    if S(i) != Z(i):\n",
    "        print(i, S(i), '::', C(i), '||', Z(i))"
   ],
   "outputs": [],
   "execution_count": null
  },
  {
   "cell_type": "code",
   "metadata": {},
   "source": [
    "import graphviz\n",
    "\n",
    "graph = graphviz.Digraph(format='png')\n",
    "\n",
    "for node, connections in deps.items():\n",
    "    buf = [*connections]\n",
    "    while buf:\n",
    "        conn = buf.pop()\n",
    "        hub = f\"{conn.opcode} {conn.i0} {conn.i1}\"\n",
    "        graph.edge(hub, conn.out)\n",
    "        graph.edge(conn.i0, hub)\n",
    "        graph.edge(conn.i1, hub)"
   ],
   "outputs": [],
   "execution_count": null
  },
  {
   "cell_type": "code",
   "metadata": {},
   "source": [
    "deps.items()"
   ],
   "outputs": [],
   "execution_count": null
  },
  {
   "cell_type": "code",
   "metadata": {},
   "source": "graph.render(\"out.png\")  # from the graph i just verified the ripple carry adder manually lol",
   "outputs": [],
   "execution_count": null
  }
 ],
 "metadata": {
  "kernelspec": {
   "display_name": ".venv",
   "language": "python",
   "name": "python3"
  },
  "language_info": {
   "codemirror_mode": {
    "name": "ipython",
    "version": 3
   },
   "file_extension": ".py",
   "mimetype": "text/x-python",
   "name": "python",
   "nbconvert_exporter": "python",
   "pygments_lexer": "ipython3",
   "version": "3.12.7"
  }
 },
 "nbformat": 4,
 "nbformat_minor": 2
}
