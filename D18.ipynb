{
 "cells": [
  {
   "cell_type": "code",
   "metadata": {},
   "source": [
    "from collections import defaultdict\n",
    "from functools import *\n",
    "from itertools import *\n",
    "from operator import *\n",
    "from typing import NamedTuple\n",
    "\n",
    "class XY(NamedTuple):\n",
    "\tx: int\n",
    "\ty: int\n",
    "\n",
    "\tdef __add__(self, other):\n",
    "\t\treturn XY(self.x + other.x, self.y + other.y)\n",
    "\tdef __sub__(self, other):\n",
    "\t\treturn XY(self.x - other.x, self.y - other.y)\n",
    "\tdef __mul__(self, other: int):\n",
    "\t\treturn XY(self.x * other, self.y * other)\n",
    "\tdef __rmul__(self, other: int):\n",
    "\t\treturn XY(self.x * other, self.y * other)\n",
    "\tdef __eq__(self, other):\n",
    "\t\treturn self.x == other.x and self.y == other.y"
   ],
   "outputs": [],
   "execution_count": null
  },
  {
   "cell_type": "code",
   "metadata": {},
   "source": [
    "with open(\"D18_inp.txt\") as fl:\n",
    "  inp = fl.read()\n",
    "len_x, len_y = 71, 71\n",
    "t = 1024"
   ],
   "outputs": [],
   "execution_count": null
  },
  {
   "cell_type": "code",
   "metadata": {},
   "source": [
    "inp = \"\"\"5,4\n",
    "4,2\n",
    "4,5\n",
    "3,0\n",
    "2,1\n",
    "6,3\n",
    "2,4\n",
    "1,5\n",
    "0,6\n",
    "3,3\n",
    "2,6\n",
    "5,1\n",
    "1,2\n",
    "5,5\n",
    "2,5\n",
    "6,5\n",
    "1,4\n",
    "0,4\n",
    "6,4\n",
    "1,1\n",
    "6,1\n",
    "1,0\n",
    "0,5\n",
    "1,6\n",
    "2,0\"\"\"\n",
    "len_x, len_y = 7, 7\n",
    "t = 12"
   ],
   "outputs": [],
   "execution_count": null
  },
  {
   "cell_type": "code",
   "metadata": {},
   "source": [
    "data = set([XY(*map(int, row.split(','))) for row in inp.splitlines()][:t])"
   ],
   "outputs": [],
   "execution_count": null
  },
  {
   "cell_type": "code",
   "metadata": {},
   "source": [
    "layer, next_layer = [], {XY(0, 0)}\n",
    "dirs = [XY(0, 1), XY(1, 0), XY(0, -1), XY(-1, 0)]  # E S W N\n",
    "dist = [[10**8]*len_y for _ in range(len_x)]\n",
    "depth = -1\n",
    "\n",
    "def in_bounds(xy: XY):\n",
    "  return 0 <= xy.x < len_x and 0 <= xy.y < len_y\n",
    "\n",
    "while next_layer:\n",
    "  layer, next_layer = next_layer, set()\n",
    "  depth += 1\n",
    "\n",
    "  for node in layer:\n",
    "    dist[node.x][node.y] = depth\n",
    "    neighbours = [node+dir_ for dir_ in dirs]\n",
    "    neighbours = [x for x in neighbours if in_bounds(x) and dist[x.x][x.y] == 10**8 and x not in data]\n",
    "    next_layer.update(neighbours)"
   ],
   "outputs": [],
   "execution_count": null
  },
  {
   "cell_type": "code",
   "metadata": {},
   "source": [
    "import seaborn as sns\n",
    "\n",
    "max_val = max(max(x for x in row if x != 10**8) for row in dist)\n",
    "rescaled = [[max_val*1.2 if val == 10**8 else val for val in row] for row in dist]\n",
    "\n",
    "sns.heatmap(rescaled)"
   ],
   "outputs": [],
   "execution_count": null
  },
  {
   "metadata": {},
   "cell_type": "markdown",
   "source": "part 2"
  },
  {
   "cell_type": "code",
   "metadata": {},
   "source": [
    "dist = []\n",
    "def connected(n):\n",
    "  global dist\n",
    "  obs = set(data[:n])\n",
    "  print(data[n-1])\n",
    "\n",
    "  layer, next_layer = [], {XY(0, 0)}\n",
    "  dirs = [XY(0, 1), XY(1, 0), XY(0, -1), XY(-1, 0)]  # E S W N\n",
    "  dist = [[10**8]*len_y for _ in range(len_x)]\n",
    "  depth = -1\n",
    "\n",
    "  def in_bounds(xy: XY):\n",
    "    return 0 <= xy.x < len_x and 0 <= xy.y < len_y\n",
    "\n",
    "  while next_layer:\n",
    "    layer, next_layer = next_layer, set()\n",
    "    depth += 1\n",
    "\n",
    "    for node in layer:\n",
    "      dist[node.x][node.y] = depth\n",
    "      neighbours = [node+dir_ for dir_ in dirs]\n",
    "      neighbours = [x for x in neighbours if in_bounds(x) and dist[x.x][x.y] == 10**8 and x not in obs]\n",
    "      next_layer.update(neighbours)\n",
    "\n",
    "  return dist[-1][-1] != 10**8"
   ],
   "outputs": [],
   "execution_count": null
  },
  {
   "cell_type": "code",
   "metadata": {},
   "source": "# insert me doing binary search by hand here",
   "outputs": [],
   "execution_count": null
  },
  {
   "cell_type": "code",
   "metadata": {},
   "source": [
    "connected(2883)\n",
    "max_val = max(max(x if x != 10**8 else 0 for x in row) for row in dist)\n",
    "rescaled = [[max_val*1.2 if val == 10**8 else val for val in row] for row in dist]\n",
    "\n",
    "sns.heatmap(rescaled)"
   ],
   "outputs": [],
   "execution_count": null
  }
 ],
 "metadata": {
  "kernelspec": {
   "display_name": ".venv",
   "language": "python",
   "name": "python3"
  },
  "language_info": {
   "codemirror_mode": {
    "name": "ipython",
    "version": 3
   },
   "file_extension": ".py",
   "mimetype": "text/x-python",
   "name": "python",
   "nbconvert_exporter": "python",
   "pygments_lexer": "ipython3",
   "version": "3.13.0"
  }
 },
 "nbformat": 4,
 "nbformat_minor": 2
}
