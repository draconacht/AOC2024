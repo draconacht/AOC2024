{
 "cells": [
  {
   "cell_type": "code",
   "id": "initial_id",
   "metadata": {
    "collapsed": true,
    "ExecuteTime": {
     "end_time": "2024-12-04T07:35:07.827363Z",
     "start_time": "2024-12-04T07:35:07.825340Z"
    }
   },
   "source": [
    "from itertools import *\n",
    "from operator import *\n",
    "from functools import *\n",
    "\n",
    "with open(\"D4_inp.txt\") as f:\n",
    "\tinp = f.read().splitlines()"
   ],
   "outputs": [],
   "execution_count": 62
  },
  {
   "metadata": {
    "ExecuteTime": {
     "end_time": "2024-12-04T07:29:45.423135Z",
     "start_time": "2024-12-04T07:29:45.420473Z"
    }
   },
   "cell_type": "code",
   "source": [
    "inp = \"\"\"MMMSXXMASM\n",
    "MSAMXMSMSA\n",
    "AMXSXMAAMM\n",
    "MSAMASMSMX\n",
    "XMASAMXAMM\n",
    "XXAMMXXAMA\n",
    "SMSMSASXSS\n",
    "SAXAMASAAA\n",
    "MAMMMXMMMM\n",
    "MXMXAXMASX\"\"\".splitlines()\n",
    "inp"
   ],
   "id": "a851972e820b9ebd",
   "outputs": [
    {
     "data": {
      "text/plain": [
       "['MMMSXXMASM',\n",
       " 'MSAMXMSMSA',\n",
       " 'AMXSXMAAMM',\n",
       " 'MSAMASMSMX',\n",
       " 'XMASAMXAMM',\n",
       " 'XXAMMXXAMA',\n",
       " 'SMSMSASXSS',\n",
       " 'SAXAMASAAA',\n",
       " 'MAMMMXMMMM',\n",
       " 'MXMXAXMASX']"
      ]
     },
     "execution_count": 57,
     "metadata": {},
     "output_type": "execute_result"
    }
   ],
   "execution_count": 57
  },
  {
   "metadata": {
    "ExecuteTime": {
     "end_time": "2024-12-04T07:20:02.800741Z",
     "start_time": "2024-12-04T07:20:02.774500Z"
    }
   },
   "cell_type": "code",
   "source": [
    "CHECK = \"XMAS\"\n",
    "DIRS = [partial((lambda x, y, start, steps: (start[0]+ steps * x, start[1]+ steps * y)), a, b) for (a,b) in product (range (-1, 2), range(-1, 2))]\n",
    "\n",
    "found = 0\n",
    "for i, j in product(range(len(inp)), range(len(inp[0]))):\n",
    "\tif inp[i][j] == CHECK[0]:\n",
    "\t\tfor direction in DIRS: \n",
    "\t\t\tsteps = 1\n",
    "\t\t\twhile True:\n",
    "\t\t\t\tif steps == len(CHECK):\n",
    "\t\t\t\t\tfound += 1\n",
    "\t\t\t\t\tbreak\n",
    "\t\t\t\tnext_x, next_y = direction((i, j), steps)\n",
    "\t\t\t\tif not (0 <= next_x < len(inp) and 0 <= next_y < len(inp[0])): break\n",
    "\t\t\t\tif inp[next_x][next_y] != CHECK[steps]: break \n",
    "\t\t\t\t# print(next_x, next_y, inp[next_x][next_y], CHECK[steps])\n",
    "\t\t\t\tsteps += 1\n",
    "\t\t\t\t"
   ],
   "id": "c8c414ac99bb98f5",
   "outputs": [],
   "execution_count": 46
  },
  {
   "metadata": {
    "ExecuteTime": {
     "end_time": "2024-12-04T07:20:03.661337Z",
     "start_time": "2024-12-04T07:20:03.658466Z"
    }
   },
   "cell_type": "code",
   "source": "found",
   "id": "86025e016a93bc2a",
   "outputs": [
    {
     "data": {
      "text/plain": [
       "2447"
      ]
     },
     "execution_count": 47,
     "metadata": {},
     "output_type": "execute_result"
    }
   ],
   "execution_count": 47
  },
  {
   "metadata": {
    "ExecuteTime": {
     "end_time": "2024-12-04T07:17:45.667469Z",
     "start_time": "2024-12-04T07:17:45.665076Z"
    }
   },
   "cell_type": "code",
   "source": [
    "V = [a for a in range(3)]\n",
    "T = [(lambda: a) for a in range(3)]\n",
    "U = [partial((lambda x: x), a) for a in range(3)]\n",
    "print([t() for t in T])\n",
    "print([v for v in V])\n",
    "print([u() for u in U])"
   ],
   "id": "76a70b4a581c041e",
   "outputs": [
    {
     "name": "stdout",
     "output_type": "stream",
     "text": [
      "[2, 2, 2]\n",
      "[0, 1, 2]\n",
      "[0, 1, 2]\n"
     ]
    }
   ],
   "execution_count": 42
  },
  {
   "metadata": {
    "ExecuteTime": {
     "end_time": "2024-12-04T07:35:09.992023Z",
     "start_time": "2024-12-04T07:35:09.985380Z"
    }
   },
   "cell_type": "code",
   "source": [
    "found = 0\n",
    "\t\n",
    "for i, j in product(range(1, len(inp)-1), range(1, len(inp[0])-1)):\n",
    "\tif inp[i][j] == \"A\":\n",
    "\t\tD1 = f\"{inp[i-1][j-1]}{inp[i][j]}{inp[i+1][j+1]}\"\n",
    "\t\tD2 = f\"{inp[i-1][j+1]}{inp[i][j]}{inp[i+1][j-1]}\"\n",
    "\t\tif D1 in ('SAM', 'MAS') and D2 in ('SAM', 'MAS'):\n",
    "\t\t\tfound += 1\n"
   ],
   "id": "4e0511b66cae07f6",
   "outputs": [],
   "execution_count": 63
  },
  {
   "metadata": {
    "ExecuteTime": {
     "end_time": "2024-12-04T07:39:34.010375Z",
     "start_time": "2024-12-04T07:39:34.004474Z"
    }
   },
   "cell_type": "code",
   "source": [
    "found = sum(1 for x in starmap(\n",
    "\t(lambda i, j: f\"{inp[i-1][j-1]}{inp[i][j]}{inp[i+1][j+1]}\" in ('SAM', 'MAS') and f\"{inp[i-1][j+1]}{inp[i][j]}{inp[i+1][j-1]}\" in ('SAM', 'MAS')), \n",
    "\tproduct(range(1, len(inp)-1), range(1, len(inp[0])-1) )\n",
    ") if x)\n"
   ],
   "id": "34dc31fba15211c3",
   "outputs": [],
   "execution_count": 68
  },
  {
   "metadata": {
    "ExecuteTime": {
     "end_time": "2024-12-04T07:39:35.888821Z",
     "start_time": "2024-12-04T07:39:35.886650Z"
    }
   },
   "cell_type": "code",
   "source": "found",
   "id": "65c533b89a047ca4",
   "outputs": [
    {
     "data": {
      "text/plain": [
       "1868"
      ]
     },
     "execution_count": 69,
     "metadata": {},
     "output_type": "execute_result"
    }
   ],
   "execution_count": 69
  },
  {
   "metadata": {},
   "cell_type": "code",
   "outputs": [],
   "execution_count": null,
   "source": "",
   "id": "32c7bbf67a9ecafa"
  }
 ],
 "metadata": {
  "kernelspec": {
   "display_name": "Python 3",
   "language": "python",
   "name": "python3"
  },
  "language_info": {
   "codemirror_mode": {
    "name": "ipython",
    "version": 2
   },
   "file_extension": ".py",
   "mimetype": "text/x-python",
   "name": "python",
   "nbconvert_exporter": "python",
   "pygments_lexer": "ipython2",
   "version": "2.7.6"
  }
 },
 "nbformat": 4,
 "nbformat_minor": 5
}
