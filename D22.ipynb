{
 "cells": [
  {
   "metadata": {},
   "cell_type": "code",
   "source": "inp = [1, 2, 3, 2024]",
   "id": "728fa0f5c82d3a82",
   "outputs": [],
   "execution_count": null
  },
  {
   "metadata": {},
   "cell_type": "code",
   "source": [
    "with open(\"D22_inp.txt\") as fl:\n",
    "\tinp = [int(x) for x in fl.read().splitlines()]"
   ],
   "id": "7beec3654883693",
   "outputs": [],
   "execution_count": null
  },
  {
   "cell_type": "code",
   "id": "initial_id",
   "metadata": {
    "collapsed": true
   },
   "source": [
    "def mix(n0: int, n1: int):\n",
    "\treturn n0 ^ n1\n",
    "\n",
    "def prune(n: int):\n",
    "\treturn n & ((1 << 24) - 1)\n",
    "\n",
    "def shuffle(n: int):\n",
    "\tn = prune(mix(n, 64*n))\n",
    "\tn = prune(mix(n, n//32))\n",
    "\treturn prune(mix(n, 2048*n))"
   ],
   "outputs": [],
   "execution_count": null
  },
  {
   "metadata": {},
   "cell_type": "markdown",
   "source": "part 1",
   "id": "4c32de766d1f851d"
  },
  {
   "metadata": {},
   "cell_type": "code",
   "source": [
    "total = 0\n",
    "for secret in inp:\n",
    "\ts = secret\n",
    "\tfor i in range(2000):\n",
    "\t\ts = shuffle(s)\n",
    "\ttotal += s\n",
    "print(total)\n"
   ],
   "id": "fc5b8ca93acdabba",
   "outputs": [],
   "execution_count": null
  },
  {
   "metadata": {},
   "cell_type": "markdown",
   "source": "part 2",
   "id": "f716f5c4a944e6d0"
  },
  {
   "metadata": {},
   "cell_type": "code",
   "source": [
    "from collections import deque\n",
    "\n",
    "sales = []\n",
    "for secret in inp:\n",
    "\tsales.append({})\n",
    "\tsubseq = deque()\n",
    "\ts_prev, s = secret%10, secret\n",
    "\tfor i in range(4):\n",
    "\t\ts = shuffle(s)\n",
    "\t\tsubseq.append(s%10-s_prev%10)\n",
    "\t\ts_prev = s\n",
    "\tsales[-1][tuple(subseq)] = s%10\n",
    "\t\n",
    "\tfor i in range(1997):\n",
    "\t\ts = shuffle(s)\n",
    "\t\tsubseq.append(s%10-s_prev%10)\n",
    "\t\tsubseq.popleft()\n",
    "\t\tif not sales[-1].get(tuple(subseq)): sales[-1][tuple(subseq)] = s%10\n",
    "\t\ts_prev = s"
   ],
   "id": "e4da0ba8d050f9c8",
   "outputs": [],
   "execution_count": null
  },
  {
   "metadata": {},
   "cell_type": "code",
   "source": "all_subseqs = set.union(*(set(x.keys()) for x in sales))",
   "id": "c10b63ded41ed4e0",
   "outputs": [],
   "execution_count": null
  },
  {
   "metadata": {},
   "cell_type": "code",
   "source": "print(max(sum(sale.get(subseq, 0) for sale in sales) for subseq in all_subseqs))",
   "id": "919f073abfe41498",
   "outputs": [],
   "execution_count": null
  }
 ],
 "metadata": {
  "kernelspec": {
   "display_name": "Python 3",
   "language": "python",
   "name": "python3"
  },
  "language_info": {
   "codemirror_mode": {
    "name": "ipython",
    "version": 2
   },
   "file_extension": ".py",
   "mimetype": "text/x-python",
   "name": "python",
   "nbconvert_exporter": "python",
   "pygments_lexer": "ipython2",
   "version": "2.7.6"
  }
 },
 "nbformat": 4,
 "nbformat_minor": 5
}
