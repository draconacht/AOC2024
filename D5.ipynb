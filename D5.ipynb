{
 "cells": [
  {
   "cell_type": "code",
   "id": "initial_id",
   "metadata": {
    "collapsed": true,
    "ExecuteTime": {
     "end_time": "2024-12-05T15:56:39.674448Z",
     "start_time": "2024-12-05T15:56:39.672474Z"
    }
   },
   "source": [
    "from operator import *\n",
    "from itertools import *\n",
    "from functools import *\n",
    "from collections import *"
   ],
   "outputs": [],
   "execution_count": 1
  },
  {
   "metadata": {
    "ExecuteTime": {
     "end_time": "2024-12-05T17:23:15.717941Z",
     "start_time": "2024-12-05T17:23:15.716092Z"
    }
   },
   "cell_type": "code",
   "source": [
    "with open(\"D5_inp.txt\") as fl:\n",
    "\tinp = fl.read()"
   ],
   "id": "c8f66c953c4cc976",
   "outputs": [],
   "execution_count": 82
  },
  {
   "metadata": {
    "ExecuteTime": {
     "end_time": "2024-12-05T17:34:18.864973Z",
     "start_time": "2024-12-05T17:34:18.863204Z"
    }
   },
   "cell_type": "code",
   "source": [
    "inp = \"\"\"47|53\n",
    "97|13\n",
    "97|61\n",
    "97|47\n",
    "75|29\n",
    "61|13\n",
    "75|53\n",
    "29|13\n",
    "97|29\n",
    "53|29\n",
    "61|53\n",
    "97|53\n",
    "61|29\n",
    "47|13\n",
    "75|47\n",
    "97|75\n",
    "47|61\n",
    "75|61\n",
    "47|29\n",
    "75|13\n",
    "53|13\n",
    "\n",
    "75,47,61,53,29\n",
    "97,61,53,29,13\n",
    "75,29,13\n",
    "75,97,47,61,53\n",
    "61,13,29\n",
    "97,13,75,29,47\"\"\""
   ],
   "id": "5244ed89795ba51",
   "outputs": [],
   "execution_count": 97
  },
  {
   "metadata": {
    "ExecuteTime": {
     "end_time": "2024-12-05T17:34:19.664837Z",
     "start_time": "2024-12-05T17:34:19.662522Z"
    }
   },
   "cell_type": "code",
   "source": [
    "rules, _, tests = inp.partition('\\n\\n')\n",
    "rules = [list(map(int, row.split('|'))) for row in rules.split('\\n')]\n",
    "tests = [list(map(int, row.split(','))) for row in tests.split('\\n')]\n"
   ],
   "id": "c917f771c70f39eb",
   "outputs": [],
   "execution_count": 98
  },
  {
   "metadata": {
    "ExecuteTime": {
     "end_time": "2024-12-05T17:34:19.924860Z",
     "start_time": "2024-12-05T17:34:19.922942Z"
    }
   },
   "cell_type": "code",
   "source": [
    "print(rules)\n",
    "print(tests)"
   ],
   "id": "a6398df7c0de2262",
   "outputs": [
    {
     "name": "stdout",
     "output_type": "stream",
     "text": [
      "[[47, 53], [97, 13], [97, 61], [97, 47], [75, 29], [61, 13], [75, 53], [29, 13], [97, 29], [53, 29], [61, 53], [97, 53], [61, 29], [47, 13], [75, 47], [97, 75], [47, 61], [75, 61], [47, 29], [75, 13], [53, 13]]\n",
      "[[75, 47, 61, 53, 29], [97, 61, 53, 29, 13], [75, 29, 13], [75, 97, 47, 61, 53], [61, 13, 29], [97, 13, 75, 29, 47]]\n"
     ]
    }
   ],
   "execution_count": 99
  },
  {
   "metadata": {
    "ExecuteTime": {
     "end_time": "2024-12-05T17:34:20.497014Z",
     "start_time": "2024-12-05T17:34:20.494920Z"
    }
   },
   "cell_type": "code",
   "source": [
    "descendents = defaultdict(set)\n",
    "for parent, child in rules:\n",
    "\tdescendents[parent].add(child)"
   ],
   "id": "e49f6d09eda6062a",
   "outputs": [],
   "execution_count": 100
  },
  {
   "metadata": {},
   "cell_type": "markdown",
   "source": "part 1",
   "id": "f8ed9a13fdf47d2d"
  },
  {
   "metadata": {
    "ExecuteTime": {
     "end_time": "2024-12-05T17:34:21.844233Z",
     "start_time": "2024-12-05T17:34:21.841272Z"
    }
   },
   "cell_type": "code",
   "source": "sum(test[len(test)//2] for test in tests if all(parent not in descendents[child] for parent, child in pairwise(test)))",
   "id": "da2384bc23f091e5",
   "outputs": [
    {
     "data": {
      "text/plain": [
       "143"
      ]
     },
     "execution_count": 101,
     "metadata": {},
     "output_type": "execute_result"
    }
   ],
   "execution_count": 101
  },
  {
   "metadata": {},
   "cell_type": "markdown",
   "source": "part 2",
   "id": "ef113984e7f9722a"
  },
  {
   "metadata": {
    "ExecuteTime": {
     "end_time": "2024-12-05T17:34:23.853700Z",
     "start_time": "2024-12-05T17:34:23.850220Z"
    }
   },
   "cell_type": "code",
   "source": [
    "sum(sorted(test, key=cmp_to_key(lambda a, b: -1 if a not in descendents[b] else 1))[len(test)//2] for test in tests if\\\n",
    "\t\t\t\tnot\tall(parent not in descendents[child] for parent, child in pairwise(test)))\n"
   ],
   "id": "a98d48010f5cac69",
   "outputs": [
    {
     "data": {
      "text/plain": [
       "123"
      ]
     },
     "execution_count": 102,
     "metadata": {},
     "output_type": "execute_result"
    }
   ],
   "execution_count": 102
  },
  {
   "metadata": {
    "ExecuteTime": {
     "end_time": "2024-12-05T17:34:24.275963Z",
     "start_time": "2024-12-05T17:34:24.272727Z"
    }
   },
   "cell_type": "code",
   "source": [
    "s = 0\n",
    "for test in tests:\n",
    "\tif all(parent not in descendents[child] for parent, child in pairwise(test)): continue\n",
    "\tfor i in range(len(test)):\n",
    "\t\tfor j in range(i):\n",
    "\t\t\tif test[j] in descendents[test[i]]:\n",
    "\t\t\t\ttest.insert(j, test.pop(i))\n",
    "\ts += test[len(test)//2]\n",
    "s"
   ],
   "id": "b5600b6a63dd94b3",
   "outputs": [
    {
     "data": {
      "text/plain": [
       "123"
      ]
     },
     "execution_count": 103,
     "metadata": {},
     "output_type": "execute_result"
    }
   ],
   "execution_count": 103
  }
 ],
 "metadata": {
  "kernelspec": {
   "display_name": "Python 3",
   "language": "python",
   "name": "python3"
  },
  "language_info": {
   "codemirror_mode": {
    "name": "ipython",
    "version": 2
   },
   "file_extension": ".py",
   "mimetype": "text/x-python",
   "name": "python",
   "nbconvert_exporter": "python",
   "pygments_lexer": "ipython2",
   "version": "2.7.6"
  }
 },
 "nbformat": 4,
 "nbformat_minor": 5
}
