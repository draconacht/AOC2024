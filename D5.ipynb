{
 "cells": [
  {
   "cell_type": "code",
   "id": "initial_id",
   "metadata": {
    "collapsed": true,
    "ExecuteTime": {
     "end_time": "2024-12-05T17:41:29.237546Z",
     "start_time": "2024-12-05T17:41:29.235562Z"
    }
   },
   "source": [
    "from operator import *\n",
    "from itertools import *\n",
    "from functools import *\n",
    "from collections import *"
   ],
   "outputs": [],
   "execution_count": 123
  },
  {
   "metadata": {
    "ExecuteTime": {
     "end_time": "2024-12-05T17:41:29.243626Z",
     "start_time": "2024-12-05T17:41:29.241912Z"
    }
   },
   "cell_type": "code",
   "source": [
    "with open(\"D5_inp.txt\") as fl:\n",
    "\tinp = fl.read()"
   ],
   "id": "c8f66c953c4cc976",
   "outputs": [],
   "execution_count": 124
  },
  {
   "metadata": {
    "ExecuteTime": {
     "end_time": "2024-12-05T17:41:29.289271Z",
     "start_time": "2024-12-05T17:41:29.287366Z"
    }
   },
   "cell_type": "code",
   "source": [
    "inp = \"\"\"47|53\n",
    "97|13\n",
    "97|61\n",
    "97|47\n",
    "75|29\n",
    "61|13\n",
    "75|53\n",
    "29|13\n",
    "97|29\n",
    "53|29\n",
    "61|53\n",
    "97|53\n",
    "61|29\n",
    "47|13\n",
    "75|47\n",
    "97|75\n",
    "47|61\n",
    "75|61\n",
    "47|29\n",
    "75|13\n",
    "53|13\n",
    "\n",
    "75,47,61,53,29\n",
    "97,61,53,29,13\n",
    "75,29,13\n",
    "75,97,47,61,53\n",
    "61,13,29\n",
    "97,13,75,29,47\"\"\""
   ],
   "id": "5244ed89795ba51",
   "outputs": [],
   "execution_count": 125
  },
  {
   "metadata": {
    "ExecuteTime": {
     "end_time": "2024-12-05T17:41:29.338818Z",
     "start_time": "2024-12-05T17:41:29.336657Z"
    }
   },
   "cell_type": "code",
   "source": [
    "rules, _, tests = inp.partition('\\n\\n')\n",
    "rules = [list(map(int, row.split('|'))) for row in rules.split('\\n')]\n",
    "tests = [list(map(int, row.split(','))) for row in tests.split('\\n')]\n"
   ],
   "id": "c917f771c70f39eb",
   "outputs": [],
   "execution_count": 126
  },
  {
   "metadata": {
    "ExecuteTime": {
     "end_time": "2024-12-05T17:41:29.389198Z",
     "start_time": "2024-12-05T17:41:29.387330Z"
    }
   },
   "cell_type": "code",
   "source": [
    "print(rules)\n",
    "print(tests)"
   ],
   "id": "a6398df7c0de2262",
   "outputs": [
    {
     "name": "stdout",
     "output_type": "stream",
     "text": [
      "[[47, 53], [97, 13], [97, 61], [97, 47], [75, 29], [61, 13], [75, 53], [29, 13], [97, 29], [53, 29], [61, 53], [97, 53], [61, 29], [47, 13], [75, 47], [97, 75], [47, 61], [75, 61], [47, 29], [75, 13], [53, 13]]\n",
      "[[75, 47, 61, 53, 29], [97, 61, 53, 29, 13], [75, 29, 13], [75, 97, 47, 61, 53], [61, 13, 29], [97, 13, 75, 29, 47]]\n"
     ]
    }
   ],
   "execution_count": 127
  },
  {
   "metadata": {
    "ExecuteTime": {
     "end_time": "2024-12-05T17:41:29.494977Z",
     "start_time": "2024-12-05T17:41:29.492884Z"
    }
   },
   "cell_type": "code",
   "source": [
    "descendents = defaultdict(set)\n",
    "for parent, child in rules:\n",
    "\tdescendents[parent].add(child)"
   ],
   "id": "e49f6d09eda6062a",
   "outputs": [],
   "execution_count": 128
  },
  {
   "metadata": {},
   "cell_type": "markdown",
   "source": "part 1",
   "id": "f8ed9a13fdf47d2d"
  },
  {
   "metadata": {
    "ExecuteTime": {
     "end_time": "2024-12-05T17:41:29.543532Z",
     "start_time": "2024-12-05T17:41:29.540841Z"
    }
   },
   "cell_type": "code",
   "source": "sum(test[len(test)//2] for test in tests if all(parent not in descendents[child] for parent, child in pairwise(test)))",
   "id": "da2384bc23f091e5",
   "outputs": [
    {
     "data": {
      "text/plain": [
       "143"
      ]
     },
     "execution_count": 129,
     "metadata": {},
     "output_type": "execute_result"
    }
   ],
   "execution_count": 129
  },
  {
   "metadata": {},
   "cell_type": "markdown",
   "source": "part 2",
   "id": "ef113984e7f9722a"
  },
  {
   "metadata": {
    "ExecuteTime": {
     "end_time": "2024-12-05T17:41:29.594939Z",
     "start_time": "2024-12-05T17:41:29.592220Z"
    }
   },
   "cell_type": "code",
   "source": [
    "sum(sorted(test, key=cmp_to_key(lambda a, b: -1 if a not in descendents[b] else 1))[len(test)//2] for test in tests if\\\n",
    "\t\t\t\tnot\tall(parent not in descendents[child] for parent, child in pairwise(test)))\n"
   ],
   "id": "a98d48010f5cac69",
   "outputs": [
    {
     "data": {
      "text/plain": [
       "123"
      ]
     },
     "execution_count": 130,
     "metadata": {},
     "output_type": "execute_result"
    }
   ],
   "execution_count": 130
  },
  {
   "metadata": {
    "ExecuteTime": {
     "end_time": "2024-12-05T17:41:29.645377Z",
     "start_time": "2024-12-05T17:41:29.642464Z"
    }
   },
   "cell_type": "code",
   "source": [
    "s = 0\n",
    "for test in tests:\n",
    "\tif all(parent not in descendents[child] for parent, child in pairwise(test)): continue\n",
    "\tfor i in range(len(test)):\n",
    "\t\tfor j in range(i):\n",
    "\t\t\tif test[j] in descendents[test[i]]:\n",
    "\t\t\t\ttest.insert(j, test.pop(i))\n",
    "\t\t\t\tbreak\n",
    "\ts += test[len(test)//2]\n",
    "s"
   ],
   "id": "b5600b6a63dd94b3",
   "outputs": [
    {
     "data": {
      "text/plain": [
       "123"
      ]
     },
     "execution_count": 131,
     "metadata": {},
     "output_type": "execute_result"
    }
   ],
   "execution_count": 131
  }
 ],
 "metadata": {
  "kernelspec": {
   "display_name": "Python 3",
   "language": "python",
   "name": "python3"
  },
  "language_info": {
   "codemirror_mode": {
    "name": "ipython",
    "version": 2
   },
   "file_extension": ".py",
   "mimetype": "text/x-python",
   "name": "python",
   "nbconvert_exporter": "python",
   "pygments_lexer": "ipython2",
   "version": "2.7.6"
  }
 },
 "nbformat": 4,
 "nbformat_minor": 5
}
