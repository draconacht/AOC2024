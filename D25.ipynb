{
 "cells": [
  {
   "cell_type": "code",
   "metadata": {},
   "source": [
    "inp=\"\"\"#####\n",
    ".####\n",
    ".####\n",
    ".####\n",
    ".#.#.\n",
    ".#...\n",
    ".....\n",
    "\n",
    "#####\n",
    "##.##\n",
    ".#.##\n",
    "...##\n",
    "...#.\n",
    "...#.\n",
    ".....\n",
    "\n",
    ".....\n",
    "#....\n",
    "#....\n",
    "#...#\n",
    "#.#.#\n",
    "#.###\n",
    "#####\n",
    "\n",
    ".....\n",
    ".....\n",
    "#.#..\n",
    "###..\n",
    "###.#\n",
    "###.#\n",
    "#####\n",
    "\n",
    ".....\n",
    ".....\n",
    ".....\n",
    "#....\n",
    "#.#..\n",
    "#.#.#\n",
    "#####\"\"\""
   ],
   "outputs": [],
   "execution_count": null
  },
  {
   "cell_type": "code",
   "metadata": {},
   "source": [
    "with open(\"D25_inp.txt\") as fl:\n",
    "    inp = fl.read()"
   ],
   "outputs": [],
   "execution_count": null
  },
  {
   "cell_type": "code",
   "metadata": {},
   "source": [
    "import numpy as np\n",
    "\n",
    "locks = []\n",
    "keys = []\n",
    "for chunk in inp.split('\\n\\n'):\n",
    "    pieces = np.array([0]*5)\n",
    "    vals = np.transpose([list(x) for x in chunk.splitlines()])\n",
    "    for i in range(5):\n",
    "        for cell in vals[i]:\n",
    "            if cell == vals[i][0]:\n",
    "                pieces[i] += 1\n",
    "    if vals[0][0] == '#':\n",
    "        locks.append(pieces-1)\n",
    "    else:\n",
    "        keys.append(6-pieces)\n"
   ],
   "outputs": [],
   "execution_count": null
  },
  {
   "cell_type": "code",
   "metadata": {},
   "source": [
    "fits = 0\n",
    "for lock in locks:\n",
    "    for key in keys:\n",
    "        if all(lock + key < 6):\n",
    "            fits += 1\n",
    "print(fits)"
   ],
   "outputs": [],
   "execution_count": null
  }
 ],
 "metadata": {
  "kernelspec": {
   "display_name": ".venv",
   "language": "python",
   "name": "python3"
  },
  "language_info": {
   "codemirror_mode": {
    "name": "ipython",
    "version": 3
   },
   "file_extension": ".py",
   "mimetype": "text/x-python",
   "name": "python",
   "nbconvert_exporter": "python",
   "pygments_lexer": "ipython3",
   "version": "3.12.7"
  }
 },
 "nbformat": 4,
 "nbformat_minor": 2
}
