{
 "cells": [
  {
   "cell_type": "code",
   "id": "initial_id",
   "metadata": {
    "collapsed": true,
    "ExecuteTime": {
     "end_time": "2024-12-07T15:04:53.095979Z",
     "start_time": "2024-12-07T15:04:53.094325Z"
    }
   },
   "source": [
    "from time import sleep\n",
    "\n",
    "inp = \"\"\"190: 10 19\n",
    "3267: 81 40 27\n",
    "83: 17 5\n",
    "156: 15 6\n",
    "7290: 6 8 6 15\n",
    "161011: 16 10 13\n",
    "192: 17 8 14\n",
    "21037: 9 7 18 13\n",
    "292: 11 6 16 20\"\"\""
   ],
   "outputs": [],
   "execution_count": 193
  },
  {
   "metadata": {
    "ExecuteTime": {
     "end_time": "2024-12-07T14:45:57.036418Z",
     "start_time": "2024-12-07T14:45:57.034786Z"
    }
   },
   "cell_type": "code",
   "source": [
    "with open('D7_inp.txt') as fl:\n",
    "\tinp = fl.read()"
   ],
   "id": "feb370c1018b202d",
   "outputs": [],
   "execution_count": 147
  },
  {
   "metadata": {
    "ExecuteTime": {
     "end_time": "2024-12-07T15:04:54.206488Z",
     "start_time": "2024-12-07T15:04:54.204442Z"
    }
   },
   "cell_type": "code",
   "source": [
    "tests = []\n",
    "for line in inp.splitlines():\n",
    "\ttarget, _, pieces = line.partition(': ')\n",
    "\ttests.append((int(target), [int(piece) for piece in pieces.split(\" \")]))"
   ],
   "id": "f0be457fbc04f572",
   "outputs": [],
   "execution_count": 194
  },
  {
   "metadata": {
    "ExecuteTime": {
     "end_time": "2024-12-07T15:04:54.432448Z",
     "start_time": "2024-12-07T15:04:54.429969Z"
    }
   },
   "cell_type": "code",
   "source": "tests",
   "id": "2d6067a1c4e5ae19",
   "outputs": [
    {
     "data": {
      "text/plain": [
       "[(190, [10, 19]),\n",
       " (3267, [81, 40, 27]),\n",
       " (83, [17, 5]),\n",
       " (156, [15, 6]),\n",
       " (7290, [6, 8, 6, 15]),\n",
       " (161011, [16, 10, 13]),\n",
       " (192, [17, 8, 14]),\n",
       " (21037, [9, 7, 18, 13]),\n",
       " (292, [11, 6, 16, 20])]"
      ]
     },
     "execution_count": 195,
     "metadata": {},
     "output_type": "execute_result"
    }
   ],
   "execution_count": 195
  },
  {
   "metadata": {
    "ExecuteTime": {
     "end_time": "2024-12-07T15:04:55.088380Z",
     "start_time": "2024-12-07T15:04:55.084897Z"
    }
   },
   "cell_type": "code",
   "source": [
    "from functools import *\n",
    "\n",
    "s = 0\n",
    "for target, pieces in tests:\n",
    "\tacc = [(pieces[0], False)]\n",
    "\tpath = [str(pieces[0])]\n",
    "\twhile acc[-1][0] < target:\n",
    "\t\twhile len(acc) < len(pieces):   # upstack\n",
    "\t\t\tif (x := acc[-1][0] * pieces[len(acc)]) <= target:\n",
    "\t\t\t\tpath.append(f\"*{pieces[len(acc)]}\")\n",
    "\t\t\t\tacc.append((x, False))\n",
    "\t\t\telif (x := acc[-1][0] + pieces[len(acc)]) <= target:\n",
    "\t\t\t\tpath.append(f\"+{pieces[len(acc)]}\")\n",
    "\t\t\t\tacc.append((x, True))\n",
    "\t\t\telse: break\n",
    "\t\tif acc[-1][0] < target or len(acc) < len(pieces):  # downstack\n",
    "\t\t\twhile acc[-1][1]: \n",
    "\t\t\t\tacc.pop()\n",
    "\t\t\t\tpath.pop()\n",
    "\t\t\tacc.pop()\n",
    "\t\t\tpath.pop()\n",
    "\t\t\tif len(acc) == 0: break\n",
    "\t\t\tpath.append(f\"+{pieces[len(acc)]}\")\n",
    "\t\t\tacc.append((acc[-1][0] + pieces[len(acc)], True))\n",
    "\t\tif acc[-1][0] == target and len(acc) == len(pieces):\n",
    "\t\t\t# print(target, reduce(lambda x, y: eval(str(x)+str(y)), path, \"\"), pieces, path, all(str(x) == y[1:] for x,y in zip(pieces[1:], path[1:])), len(pieces) == len(path))\n",
    "\t\t\ts += target\n",
    "print(s)"
   ],
   "id": "c2aa9c29fd3dc77",
   "outputs": [
    {
     "name": "stdout",
     "output_type": "stream",
     "text": [
      "3749\n"
     ]
    }
   ],
   "execution_count": 196
  },
  {
   "metadata": {},
   "cell_type": "markdown",
   "source": "part 1 clean",
   "id": "a3d847f6d4102fa0"
  },
  {
   "metadata": {
    "ExecuteTime": {
     "end_time": "2024-12-07T15:04:56.501692Z",
     "start_time": "2024-12-07T15:04:56.498635Z"
    }
   },
   "cell_type": "code",
   "source": [
    "s = 0\n",
    "for target, pieces in tests:\n",
    "\tacc = [(pieces[0], False)]\n",
    "\twhile acc[-1][0] < target:\n",
    "\t\twhile len(acc) < len(pieces):   # upstack\n",
    "\t\t\tif (x := acc[-1][0] * pieces[len(acc)]) <= target: acc.append((x, False))\n",
    "\t\t\telif (x := acc[-1][0] + pieces[len(acc)]) <= target: acc.append((x, True))\n",
    "\t\t\telse: break\n",
    "\t\tif acc[-1][0] < target or len(acc) < len(pieces):  # downstack\n",
    "\t\t\twhile acc[-1][1]: acc.pop()\n",
    "\t\t\tacc.pop()\n",
    "\t\t\tif len(acc) == 0: break\n",
    "\t\t\tacc.append((acc[-1][0] + pieces[len(acc)], True))\n",
    "\t\tif acc[-1][0] == target and len(acc) == len(pieces):\n",
    "\t\t\ts += target\n",
    "print(s)\n"
   ],
   "id": "f7b015667463a3e0",
   "outputs": [
    {
     "name": "stdout",
     "output_type": "stream",
     "text": [
      "3749\n"
     ]
    }
   ],
   "execution_count": 197
  },
  {
   "metadata": {},
   "cell_type": "markdown",
   "source": "part 2",
   "id": "89de4f0a9ef724e5"
  },
  {
   "metadata": {
    "ExecuteTime": {
     "end_time": "2024-12-07T15:06:26.348131Z",
     "start_time": "2024-12-07T15:06:26.344865Z"
    }
   },
   "cell_type": "code",
   "source": [
    "from math import log10\n",
    "s = 0\n",
    "def int_concat(a, b):\n",
    "\treturn int(b + a * pow(10, int(log10(b))+1))\n",
    "\t\n",
    "for target, pieces in tests:\n",
    "\t# print(target, pieces)\n",
    "\tacc = pieces[0]\n",
    "\ttasks = [[pieces[0]]]\n",
    "\twhile tasks:\n",
    "\t\tif len(tasks) == len(pieces):\n",
    "\t\t\tif target in tasks[-1]:\n",
    "\t\t\t\ts += target\n",
    "\t\t\t\tbreak\n",
    "\t\t\ttasks.pop()\n",
    "\t\t\t\n",
    "\t\twhile tasks and not tasks[-1]: tasks.pop()  # downstack\n",
    "\t\tif not tasks: break\n",
    "\t\tacc = tasks[-1].pop()\n",
    "\t\t\n",
    "\t\tt = []  # upstack\n",
    "\t\tif (x := acc * pieces[len(tasks)]) <= target: t.append(x)\n",
    "\t\tif (x := acc + pieces[len(tasks)]) <= target: t.append(x)\n",
    "\t\tif (x := int(f\"{acc}{pieces[len(tasks)]}\")) <= target: t.append(x)\n",
    "\t\t# if (x := int_concat(acc, pieces[len(tasks)])) <= target: t.append(x)\n",
    "\t\ttasks.append(sorted(t))\n",
    "\t\t# print(tasks)\n",
    "print(s)\n"
   ],
   "id": "ff085969e1cf7f3f",
   "outputs": [
    {
     "name": "stdout",
     "output_type": "stream",
     "text": [
      "11387\n"
     ]
    }
   ],
   "execution_count": 201
  }
 ],
 "metadata": {
  "kernelspec": {
   "display_name": "Python 3",
   "language": "python",
   "name": "python3"
  },
  "language_info": {
   "codemirror_mode": {
    "name": "ipython",
    "version": 2
   },
   "file_extension": ".py",
   "mimetype": "text/x-python",
   "name": "python",
   "nbconvert_exporter": "python",
   "pygments_lexer": "ipython2",
   "version": "2.7.6"
  }
 },
 "nbformat": 4,
 "nbformat_minor": 5
}
