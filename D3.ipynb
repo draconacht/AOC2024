{
 "cells": [
  {
   "cell_type": "code",
   "id": "initial_id",
   "metadata": {
    "collapsed": true,
    "ExecuteTime": {
     "end_time": "2024-12-03T19:50:28.115016Z",
     "start_time": "2024-12-03T19:50:28.112857Z"
    }
   },
   "source": [
    "import re\n",
    "from operator import *\n",
    "from itertools import *\n",
    "from functools import *\n",
    "\n",
    "with open('D3_inp.txt') as fl:\n",
    "\tinp = fl.read()"
   ],
   "outputs": [],
   "execution_count": 1
  },
  {
   "metadata": {},
   "cell_type": "markdown",
   "source": "part 1",
   "id": "b15f9dbfea28b29f"
  },
  {
   "metadata": {
    "ExecuteTime": {
     "end_time": "2024-12-03T19:50:28.165628Z",
     "start_time": "2024-12-03T19:50:28.160809Z"
    }
   },
   "cell_type": "code",
   "source": [
    "numpairs = re.finditer(r\"mul\\((\\d+),(\\d+)\\)\", inp)\n",
    "sum((lambda a, b: int(a) * int(b))(*pair.groups()) for pair in numpairs)\n"
   ],
   "id": "8be1918277c5f3b6",
   "outputs": [
    {
     "data": {
      "text/plain": [
       "156388521"
      ]
     },
     "execution_count": 2,
     "metadata": {},
     "output_type": "execute_result"
    }
   ],
   "execution_count": 2
  },
  {
   "metadata": {
    "ExecuteTime": {
     "end_time": "2024-12-03T19:50:28.224128Z",
     "start_time": "2024-12-03T19:50:28.221636Z"
    }
   },
   "cell_type": "code",
   "source": "sum(reduce(mul, map(int, match.groups()), 1) for match in re.finditer(r\"mul\\((\\d+),(\\d+)\\)\", inp))",
   "id": "d955b346bad7abbd",
   "outputs": [
    {
     "data": {
      "text/plain": [
       "156388521"
      ]
     },
     "execution_count": 3,
     "metadata": {},
     "output_type": "execute_result"
    }
   ],
   "execution_count": 3
  },
  {
   "metadata": {},
   "cell_type": "markdown",
   "source": "part 2",
   "id": "d6dfe028676c697e"
  },
  {
   "metadata": {
    "ExecuteTime": {
     "end_time": "2024-12-03T20:03:56.558230Z",
     "start_time": "2024-12-03T20:03:56.554917Z"
    }
   },
   "cell_type": "code",
   "source": [
    "insns = re.findall(r\"(do\\(\\)|don't\\(\\)|mul\\(\\d+,\\d+\\))\", inp)\n",
    "enabled = True\n",
    "s = 0\n",
    "for insn in insns:\n",
    "\tif insn == \"do()\":\n",
    "\t\tenabled = True\n",
    "\tif insn == \"don't()\":\n",
    "\t\tenabled = False\n",
    "\tif insn.startswith(\"mul\") and enabled:\n",
    "\t\tnums = re.findall(r'\\((\\d+),(\\d+)\\)', insn)[0]\n",
    "\t\ts += int(nums[0]) * int(nums[1])\n",
    "print(s)\n"
   ],
   "id": "4f9b4423ca52caec",
   "outputs": [
    {
     "name": "stdout",
     "output_type": "stream",
     "text": [
      "75920122\n"
     ]
    }
   ],
   "execution_count": 29
  },
  {
   "metadata": {
    "ExecuteTime": {
     "end_time": "2024-12-03T20:14:06.663009Z",
     "start_time": "2024-12-03T20:14:06.660127Z"
    }
   },
   "cell_type": "code",
   "source": [
    "i = iter(re.findall(r\"(do\\(\\)|don't\\(\\)|mul\\(\\d+,\\d+\\))\", inp))\n",
    "\n",
    "s = 0\n",
    "while (insn := next(i, None)) is not None:\n",
    "\tif insn.startswith(\"mul\"):\n",
    "\t\tn = re.findall(r'\\((\\d+),(\\d+)\\)', insn)[0]\n",
    "\t\ts += int(n[0]) * int(n[1])\n",
    "\tif insn == \"don't()\":\n",
    "\t\ti = dropwhile(lambda ins: ins != \"do()\", i)\n",
    "print(s)"
   ],
   "id": "e5f172b94348c1bd",
   "outputs": [
    {
     "name": "stdout",
     "output_type": "stream",
     "text": [
      "75920122\n"
     ]
    }
   ],
   "execution_count": 30
  },
  {
   "metadata": {
    "ExecuteTime": {
     "end_time": "2024-12-03T20:00:25.526488Z",
     "start_time": "2024-12-03T20:00:25.523355Z"
    }
   },
   "cell_type": "code",
   "source": [
    "valid_ranges = re.finditer(r\"(?:^|do\\(\\))(.*?)(?:don't\\(\\)|$)\", inp, re.DOTALL)\n",
    "s = 0\n",
    "for rang in valid_ranges:\n",
    "\ts += sum(reduce(mul, map(int, match.groups()), 1) for match in re.finditer(r\"mul\\((\\d+),(\\d+)\\)\", rang.groups(0)[0]))\n",
    "s"
   ],
   "id": "f584578482a2b0b9",
   "outputs": [
    {
     "data": {
      "text/plain": [
       "75920122"
      ]
     },
     "execution_count": 27,
     "metadata": {},
     "output_type": "execute_result"
    }
   ],
   "execution_count": 27
  },
  {
   "metadata": {
    "ExecuteTime": {
     "end_time": "2024-12-03T20:00:51.640156Z",
     "start_time": "2024-12-03T20:00:51.637093Z"
    }
   },
   "cell_type": "code",
   "source": "sum(sum(reduce(mul, map(int, match.groups()), 1) for match in re.finditer(r\"mul\\((\\d+),(\\d+)\\)\", rang.groups(0)[0])) for rang in re.finditer(r\"(?:^|do\\(\\))(.*?)(?:don't\\(\\)|$)\", inp, re.DOTALL))\n",
   "id": "d137f45a2b84e4a7",
   "outputs": [
    {
     "data": {
      "text/plain": [
       "75920122"
      ]
     },
     "execution_count": 28,
     "metadata": {},
     "output_type": "execute_result"
    }
   ],
   "execution_count": 28
  }
 ],
 "metadata": {
  "kernelspec": {
   "display_name": "Python 3",
   "language": "python",
   "name": "python3"
  },
  "language_info": {
   "codemirror_mode": {
    "name": "ipython",
    "version": 2
   },
   "file_extension": ".py",
   "mimetype": "text/x-python",
   "name": "python",
   "nbconvert_exporter": "python",
   "pygments_lexer": "ipython2",
   "version": "2.7.6"
  }
 },
 "nbformat": 4,
 "nbformat_minor": 5
}
