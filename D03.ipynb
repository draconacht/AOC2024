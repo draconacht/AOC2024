{
 "cells": [
  {
   "cell_type": "code",
   "id": "initial_id",
   "metadata": {
    "collapsed": true
   },
   "source": [
    "import re\n",
    "from operator import *\n",
    "from itertools import *\n",
    "from functools import *\n",
    "\n",
    "with open('D03_inp.txt') as fl:\n",
    "\tinp = fl.read()"
   ],
   "outputs": [],
   "execution_count": null
  },
  {
   "metadata": {},
   "cell_type": "markdown",
   "source": "part 1",
   "id": "b15f9dbfea28b29f"
  },
  {
   "metadata": {},
   "cell_type": "code",
   "source": [
    "numpairs = re.finditer(r\"mul\\((\\d+),(\\d+)\\)\", inp)\n",
    "sum((lambda a, b: int(a) * int(b))(*pair.groups()) for pair in numpairs)\n"
   ],
   "id": "8be1918277c5f3b6",
   "outputs": [],
   "execution_count": null
  },
  {
   "metadata": {},
   "cell_type": "code",
   "source": "sum(reduce(mul, map(int, match.groups()), 1) for match in re.finditer(r\"mul\\((\\d+),(\\d+)\\)\", inp))",
   "id": "d955b346bad7abbd",
   "outputs": [],
   "execution_count": null
  },
  {
   "metadata": {},
   "cell_type": "markdown",
   "source": "part 2",
   "id": "d6dfe028676c697e"
  },
  {
   "metadata": {},
   "cell_type": "code",
   "source": [
    "insns = re.findall(r\"(do\\(\\)|don't\\(\\)|mul\\(\\d+,\\d+\\))\", inp)\n",
    "enabled = True\n",
    "s = 0\n",
    "for insn in insns:\n",
    "\tif insn == \"do()\":\n",
    "\t\tenabled = True\n",
    "\tif insn == \"don't()\":\n",
    "\t\tenabled = False\n",
    "\tif insn.startswith(\"mul\") and enabled:\n",
    "\t\tnums = re.findall(r'\\((\\d+),(\\d+)\\)', insn)[0]\n",
    "\t\ts += int(nums[0]) * int(nums[1])\n",
    "print(s)\n"
   ],
   "id": "4f9b4423ca52caec",
   "outputs": [],
   "execution_count": null
  },
  {
   "metadata": {},
   "cell_type": "code",
   "source": [
    "i = iter(re.findall(r\"(do\\(\\)|don't\\(\\)|mul\\(\\d+,\\d+\\))\", inp))\n",
    "\n",
    "s = 0\n",
    "while (insn := next(i, None)) is not None:\n",
    "\tif insn.startswith(\"mul\"):\n",
    "\t\tn = re.findall(r'\\((\\d+),(\\d+)\\)', insn)[0]\n",
    "\t\ts += int(n[0]) * int(n[1])\n",
    "\tif insn == \"don't()\":\n",
    "\t\ti = dropwhile(lambda ins: ins != \"do()\", i)\n",
    "print(s)"
   ],
   "id": "e5f172b94348c1bd",
   "outputs": [],
   "execution_count": null
  },
  {
   "metadata": {},
   "cell_type": "code",
   "source": [
    "valid_ranges = re.finditer(r\"(?:^|do\\(\\))(.*?)(?:don't\\(\\)|$)\", inp, re.DOTALL)\n",
    "s = 0\n",
    "for rang in valid_ranges:\n",
    "\ts += sum(reduce(mul, map(int, match.groups()), 1) for match in re.finditer(r\"mul\\((\\d+),(\\d+)\\)\", rang.groups(0)[0]))\n",
    "s"
   ],
   "id": "f584578482a2b0b9",
   "outputs": [],
   "execution_count": null
  },
  {
   "metadata": {},
   "cell_type": "code",
   "source": "sum(sum(reduce(mul, map(int, match.groups()), 1) for match in re.finditer(r\"mul\\((\\d+),(\\d+)\\)\", rang.groups(0)[0])) for rang in re.finditer(r\"(?:^|do\\(\\))(.*?)(?:don't\\(\\)|$)\", inp, re.DOTALL))",
   "id": "d137f45a2b84e4a7",
   "outputs": [],
   "execution_count": null
  }
 ],
 "metadata": {
  "kernelspec": {
   "display_name": "Python 3",
   "language": "python",
   "name": "python3"
  },
  "language_info": {
   "codemirror_mode": {
    "name": "ipython",
    "version": 2
   },
   "file_extension": ".py",
   "mimetype": "text/x-python",
   "name": "python",
   "nbconvert_exporter": "python",
   "pygments_lexer": "ipython2",
   "version": "2.7.6"
  }
 },
 "nbformat": 4,
 "nbformat_minor": 5
}
