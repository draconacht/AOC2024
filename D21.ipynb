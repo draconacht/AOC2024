{
 "cells": [
  {
   "cell_type": "code",
   "id": "initial_id",
   "metadata": {
    "collapsed": true
   },
   "source": [
    "numpad = [\"789\",\"456\", \"123\", \" 0A\"]\n",
    "dirpad = [\" ^A\",\"<v>\"]\n",
    "\n",
    "from collections import defaultdict\n",
    "from functools import *\n",
    "from itertools import *\n",
    "from operator import *\n",
    "from typing import NamedTuple\n",
    "\n",
    "class XY(NamedTuple):\n",
    "\tx: int\n",
    "\ty: int\n",
    "\n",
    "\tdef __add__(self, other):\n",
    "\t\treturn XY(self.x + other.x, self.y + other.y)\n",
    "\tdef __sub__(self, other):\n",
    "\t\treturn XY(self.x - other.x, self.y - other.y)\n",
    "\tdef __mul__(self, other: int):\n",
    "\t\treturn XY(self.x * other, self.y * other)\n",
    "\tdef __rmul__(self, other: int):\n",
    "\t\treturn XY(self.x * other, self.y * other)\n",
    "\tdef __eq__(self, other):\n",
    "\t\treturn self.x == other.x and self.y == other.y\n",
    "\tdef __abs__(self):\n",
    "\t\treturn abs(self.x) + abs(self.y)\n",
    "\t\n",
    "# my logic worked fine for part 1, but some part 2 corrections borrowed from \n",
    "# https://www.reddit.com/r/adventofcode/comments/1hjgyps/2024_day_21_part_2_i_got_greedyish/\n",
    "@cache\n",
    "def diff_dir(start, end):\n",
    "\tout = \"\"\n",
    "\tdiff = end - start\n",
    "\tif start.x == 0 and end == XY(1, 0):  # down before left to avoid gap\n",
    "\t\tout += \"v\" * diff.x\n",
    "\t\tout += \"<\" * -diff.y\n",
    "\telif start == XY(1, 0):  # right before up to avoid gap\n",
    "\t\tout += \">\" * diff.y\n",
    "\t\tout += \"^\" * -diff.x\n",
    "\telse:\n",
    "\t\tif diff.y < 0: out += \"<\" * -diff.y\n",
    "\t\tif diff.x > 0: out += \"v\" * diff.x\n",
    "\t\tif diff.x < 0: out += \"^\" * -diff.x\n",
    "\t\tif diff.y > 0: out += \">\" * diff.y\n",
    "\treturn out\n",
    "\n",
    "@cache\n",
    "def diff_num(start, end):\n",
    "\tout = \"\"\n",
    "\tdiff = end - start\n",
    "\t\n",
    "\tif start + XY(0, diff.y) == XY(3, 0):  # go up before left to avoid gap\n",
    "\t\tout += \"^\" * -diff.x\n",
    "\t\tout += \"<\" * -diff.y\n",
    "\telif start + XY(diff.x, 0) == XY(3, 0):  # go right before down to avoid gap \n",
    "\t\tout += \">\" * diff.y\n",
    "\t\tout += \"v\" * diff.x\n",
    "\telse:\n",
    "\t\tif diff.y < 0: out += \"<\" * -diff.y\n",
    "\t\tif diff.x > 0: out += \"v\" * diff.x\n",
    "\t\tif diff.x < 0: out += \"^\" * -diff.x\n",
    "\t\tif diff.y > 0: out += \">\" * diff.y\n",
    "\treturn out\n",
    "\t\t\n"
   ],
   "outputs": [],
   "execution_count": null
  },
  {
   "metadata": {},
   "cell_type": "code",
   "source": "inps = [\"029A\", \"980A\", \"179A\", \"456A\", \"379A\"]",
   "id": "c5462614dfd9d902",
   "outputs": [],
   "execution_count": null
  },
  {
   "metadata": {},
   "cell_type": "code",
   "source": [
    "with open(\"D21_inp.txt\") as fl:\n",
    "\tinps = fl.read().splitlines()"
   ],
   "id": "43665436837d4dde",
   "outputs": [],
   "execution_count": null
  },
  {
   "metadata": {},
   "cell_type": "code",
   "source": [
    "num_map = {}\n",
    "dir_map = {}\n",
    "\n",
    "for i, row in enumerate(numpad):\n",
    "\tfor j, num in enumerate(row):\n",
    "\t\tnum_map[num] = XY(i, j)\n",
    "\n",
    "for i, row in enumerate(dirpad):\n",
    "\tfor j, dir_ in enumerate(row):\n",
    "\t\tdir_map[dir_] = XY(i, j)"
   ],
   "id": "8325fdb4fe1742a2",
   "outputs": [],
   "execution_count": null
  },
  {
   "metadata": {},
   "cell_type": "markdown",
   "source": "part 1",
   "id": "fb513e844c660822"
  },
  {
   "metadata": {},
   "cell_type": "code",
   "source": [
    "@cache\n",
    "def shortest_path(start: XY, end: XY, depth: int):\n",
    "\tif depth <= 1:\n",
    "\t\treturn diff_dir(start, end)+\"A\"\n",
    "\n",
    "\tcurr_layer = diff_dir(start, end)+\"A\"\n",
    "\tif depth == 3:\n",
    "\t\tcurr_layer = diff_num(start, end)+\"A\"\n",
    "\t\n",
    "\tpath = \"\"\n",
    "\tfor first, second in pairwise(\"A\"+curr_layer):\n",
    "\t\tpath += shortest_path(dir_map[first], dir_map[second], depth-1)\n",
    "\treturn path\n",
    "\t"
   ],
   "id": "dedf3069fc07bc1",
   "outputs": [],
   "execution_count": null
  },
  {
   "metadata": {},
   "cell_type": "code",
   "source": [
    "complexity = 0\n",
    "for code in inps:\n",
    "\tp0, p1, p2 = \"\", \"\", \"\"\n",
    "\tfor first, second in pairwise(\"A\"+code):\n",
    "\t\tp2 += shortest_path(num_map[first], num_map[second], 3)\n",
    "\tcomplexity += len(p2)*int(code[:-1])\n",
    "print(complexity)\n"
   ],
   "id": "3ef4791f1f2e2a3",
   "outputs": [],
   "execution_count": null
  },
  {
   "metadata": {},
   "cell_type": "markdown",
   "source": "part 2",
   "id": "e693db3c46902990"
  },
  {
   "metadata": {},
   "cell_type": "code",
   "source": [
    "@cache\n",
    "def len_shortest_path(start: XY, end: XY, depth: int):\n",
    "\tif depth <= 1:\n",
    "\t\treturn len(diff_dir(start, end))+1\n",
    "\n",
    "\tcurr_layer = diff_dir(start, end)+\"A\"\n",
    "\tif depth == 26:\n",
    "\t\tcurr_layer = diff_num(start, end)+\"A\"\n",
    "\n",
    "\tpath = 0\n",
    "\tfor first, second in pairwise(\"A\"+curr_layer):\n",
    "\t\tpath += len_shortest_path(dir_map[first], dir_map[second], depth-1)\n",
    "\treturn path\n"
   ],
   "id": "1129f9b8feffed23",
   "outputs": [],
   "execution_count": null
  },
  {
   "metadata": {},
   "cell_type": "code",
   "source": [
    "complexity = 0\n",
    "for code in inps:\n",
    "\tp2 = 0\n",
    "\tfor first, second in pairwise(\"A\"+code):\n",
    "\t\tp2 += len_shortest_path(num_map[first], num_map[second], 26)\n",
    "\tcomplexity += p2*int(code[:-1])\n",
    "\n",
    "print(complexity)\n"
   ],
   "id": "c871955d2d114737",
   "outputs": [],
   "execution_count": null
  }
 ],
 "metadata": {
  "kernelspec": {
   "display_name": "Python 3",
   "language": "python",
   "name": "python3"
  },
  "language_info": {
   "codemirror_mode": {
    "name": "ipython",
    "version": 2
   },
   "file_extension": ".py",
   "mimetype": "text/x-python",
   "name": "python",
   "nbconvert_exporter": "python",
   "pygments_lexer": "ipython2",
   "version": "2.7.6"
  }
 },
 "nbformat": 4,
 "nbformat_minor": 5
}
