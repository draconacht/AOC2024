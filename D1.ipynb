{
 "cells": [
  {
   "metadata": {
    "collapsed": true,
    "ExecuteTime": {
     "end_time": "2024-12-01T12:01:20.654641Z",
     "start_time": "2024-12-01T12:01:20.652715Z"
    }
   },
   "cell_type": "code",
   "source": [
    "with open('D1_inp.txt') as fl:\n",
    "    inp_raw = fl.read()"
   ],
   "id": "initial_id",
   "outputs": [],
   "execution_count": 82
  },
  {
   "metadata": {
    "ExecuteTime": {
     "end_time": "2024-12-01T12:00:51.977023Z",
     "start_time": "2024-12-01T12:00:51.975247Z"
    }
   },
   "cell_type": "code",
   "source": [
    "inp_raw=\"\"\"3   4\n",
    "4   3\n",
    "2   5\n",
    "1   3\n",
    "3   9\n",
    "3   3\"\"\""
   ],
   "id": "e5ca3d00f4bc82f6",
   "outputs": [],
   "execution_count": 75
  },
  {
   "metadata": {
    "ExecuteTime": {
     "end_time": "2024-12-01T12:01:22.344733Z",
     "start_time": "2024-12-01T12:01:22.339893Z"
    }
   },
   "cell_type": "code",
   "source": [
    "from operator import *\n",
    "from functools import *\n",
    "from itertools import *\n",
    "from typing import Iterable\n",
    "\n",
    "type Pair[T] = Iterable[T] # length not enforced, just doing for cleanness\n",
    "\n",
    "inp: Iterable[Pair[int]] = (map(int, row.split()) for row in inp_raw.splitlines())\n",
    "unsorted_lists: Pair[Iterable[int]] = zip(*inp)\n",
    "sorted_lists: Pair[Iterable[int]] = map(sorted, unsorted_lists)\n",
    "diff_sum: int = sum(map(abs, starmap(sub, zip(*sorted_lists))))"
   ],
   "id": "89e497e3e4082d80",
   "outputs": [],
   "execution_count": 83
  },
  {
   "metadata": {
    "ExecuteTime": {
     "end_time": "2024-12-01T12:01:22.771289Z",
     "start_time": "2024-12-01T12:01:22.767983Z"
    }
   },
   "cell_type": "code",
   "source": "sum(map(abs, starmap(sub, zip(*map(sorted, zip(*(map(int, row.split()) for row in inp_raw.splitlines())))))))",
   "id": "208d4ce89fe87d9c",
   "outputs": [
    {
     "data": {
      "text/plain": [
       "1119577"
      ]
     },
     "execution_count": 84,
     "metadata": {},
     "output_type": "execute_result"
    }
   ],
   "execution_count": 84
  },
  {
   "metadata": {
    "ExecuteTime": {
     "end_time": "2024-12-01T12:01:23.093742Z",
     "start_time": "2024-12-01T12:01:23.088535Z"
    }
   },
   "cell_type": "code",
   "source": [
    "from collections import Counter\n",
    "\n",
    "inp: Iterable[Pair[int]] = (map(int, row.split()) for row in inp_raw.splitlines())\n",
    "unsorted_lists: Pair[Iterable[int]] = zip(*inp)\n",
    "ctrs: Pair[Counter[int]] = map(Counter, unsorted_lists)\n",
    "c0, c1 = next(ctrs), next(ctrs)\n",
    "diff_index: int = sum(c0.get(k, 0) * freq * k for k, freq in c1.items())\n",
    "diff_index"
   ],
   "id": "4df4c4833cfe4e6",
   "outputs": [
    {
     "data": {
      "text/plain": [
       "24869388"
      ]
     },
     "execution_count": 85,
     "metadata": {},
     "output_type": "execute_result"
    }
   ],
   "execution_count": 85
  },
  {
   "metadata": {
    "ExecuteTime": {
     "end_time": "2024-12-01T12:01:23.731993Z",
     "start_time": "2024-12-01T12:01:23.728436Z"
    }
   },
   "cell_type": "code",
   "source": "call(lambda c0, c1: sum(c0.get(k, 0) * freq * k for k, freq in c1.items()), *map(Counter, zip(*(map(int, row.split()) for row in inp_raw.splitlines()))))",
   "id": "a7b8154bdbdda15c",
   "outputs": [
    {
     "data": {
      "text/plain": [
       "24869388"
      ]
     },
     "execution_count": 86,
     "metadata": {},
     "output_type": "execute_result"
    }
   ],
   "execution_count": 86
  },
  {
   "metadata": {},
   "cell_type": "code",
   "outputs": [],
   "execution_count": null,
   "source": "",
   "id": "5b085be4749633cf"
  }
 ],
 "metadata": {
  "kernelspec": {
   "display_name": "Python 3",
   "language": "python",
   "name": "python3"
  },
  "language_info": {
   "codemirror_mode": {
    "name": "ipython",
    "version": 2
   },
   "file_extension": ".py",
   "mimetype": "text/x-python",
   "name": "python",
   "nbconvert_exporter": "python",
   "pygments_lexer": "ipython2",
   "version": "2.7.6"
  }
 },
 "nbformat": 4,
 "nbformat_minor": 5
}
