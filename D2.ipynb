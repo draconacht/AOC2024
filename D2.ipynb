{
 "cells": [
  {
   "cell_type": "code",
   "id": "initial_id",
   "metadata": {
    "collapsed": true,
    "ExecuteTime": {
     "end_time": "2024-12-02T14:22:14.821509Z",
     "start_time": "2024-12-02T14:22:14.819597Z"
    }
   },
   "source": [
    "from functools import *\n",
    "from operator import *\n",
    "from itertools import *\n",
    "from collections import Counter"
   ],
   "outputs": [],
   "execution_count": 10
  },
  {
   "metadata": {
    "ExecuteTime": {
     "end_time": "2024-12-02T14:14:24.674661Z",
     "start_time": "2024-12-02T14:14:24.669475Z"
    }
   },
   "cell_type": "code",
   "source": [
    "with open('D2_inp.txt') as fl:\n",
    "\tinp = ((int(x) for x in row.split()) for row in fl.readlines())\n",
    "diffs = map(lambda row: list(starmap(sub, pairwise(row))), inp)\n",
    "safes = filter(lambda row: ((max(row) > 0) == (min(row) > 0)) and all(map(lambda x: 0 < abs(x) <= 3, row)) , diffs)\n",
    "n_safes = sum(1 for _ in safes)\n",
    "n_safes\n"
   ],
   "id": "6646499c4c4d600",
   "outputs": [
    {
     "data": {
      "text/plain": [
       "624"
      ]
     },
     "execution_count": 8,
     "metadata": {},
     "output_type": "execute_result"
    }
   ],
   "execution_count": 8
  },
  {
   "metadata": {
    "ExecuteTime": {
     "end_time": "2024-12-02T14:14:26.323917Z",
     "start_time": "2024-12-02T14:14:26.318674Z"
    }
   },
   "cell_type": "code",
   "source": [
    "with open('D2_inp.txt') as fl:\n",
    "\tinp = ((int(x) for x in row.split()) for row in fl.readlines())\n",
    "sum(1 for _ in filter(lambda row: ((max(row) > 0) == (min(row) > 0)) and all(map(lambda x: 0 < abs(x) <= 3, row)), map(lambda row: list(starmap(sub, pairwise(row))), inp)))"
   ],
   "id": "4a9c51b8fd646691",
   "outputs": [
    {
     "data": {
      "text/plain": [
       "624"
      ]
     },
     "execution_count": 9,
     "metadata": {},
     "output_type": "execute_result"
    }
   ],
   "execution_count": 9
  },
  {
   "metadata": {
    "ExecuteTime": {
     "end_time": "2024-12-02T14:57:52.884148Z",
     "start_time": "2024-12-02T14:57:52.875674Z"
    }
   },
   "cell_type": "code",
   "source": [
    "with open('D2_inp.txt') as fl:\n",
    "\tinp = ((int(x) for x in row.split()) for row in fl.readlines())\n",
    "diffss = (list(starmap(sub, pairwise(row))) for row in inp)\n",
    "diff_possibilities = ([diffs, diffs[1:], diffs[:-1]]+ [diffs[0:i-1]+[diffs[i-1]+diffs[i]]+diffs[i+1:] for i in range(1, len(diffs))] for diffs in diffss)\n",
    "n_safes = sum(1 for _ in safes)\n",
    "n_safes"
   ],
   "id": "f9e8cffe3bee52d8",
   "outputs": [
    {
     "data": {
      "text/plain": [
       "658"
      ]
     },
     "execution_count": 33,
     "metadata": {},
     "output_type": "execute_result"
    }
   ],
   "execution_count": 33
  },
  {
   "metadata": {
    "ExecuteTime": {
     "end_time": "2024-12-02T15:01:00.685834Z",
     "start_time": "2024-12-02T15:01:00.677645Z"
    }
   },
   "cell_type": "code",
   "source": [
    "with open('D2_inp.txt') as fl:\n",
    "\tinp = ((int(x) for x in row.split()) for row in fl.readlines())\n",
    "sum(1 for _ in filter(lambda posss: any(((max(poss) > 0) == (min(poss) > 0)) and all(0 < abs(x) <= 3 for x in poss) for poss in posss), ([diffs, diffs[1:], diffs[:-1]]+ [diffs[0:i-1]+[diffs[i-1]+diffs[i]]+diffs[i+1:] for i in range(1, len(diffs))] for diffs in (list(starmap(sub, pairwise(row))) for row in inp)))) \n"
   ],
   "id": "601b43536858d86f",
   "outputs": [
    {
     "data": {
      "text/plain": [
       "658"
      ]
     },
     "execution_count": 36,
     "metadata": {},
     "output_type": "execute_result"
    }
   ],
   "execution_count": 36
  }
 ],
 "metadata": {
  "kernelspec": {
   "display_name": "Python 3",
   "language": "python",
   "name": "python3"
  },
  "language_info": {
   "codemirror_mode": {
    "name": "ipython",
    "version": 2
   },
   "file_extension": ".py",
   "mimetype": "text/x-python",
   "name": "python",
   "nbconvert_exporter": "python",
   "pygments_lexer": "ipython2",
   "version": "2.7.6"
  }
 },
 "nbformat": 4,
 "nbformat_minor": 5
}
