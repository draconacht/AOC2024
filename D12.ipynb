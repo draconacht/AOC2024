{
 "cells": [
  {
   "cell_type": "code",
   "metadata": {},
   "source": [
    "with open(\"D12_inp.txt\") as fl:\n",
    "\tinp = fl.read()"
   ],
   "outputs": [],
   "execution_count": null
  },
  {
   "cell_type": "code",
   "metadata": {},
   "source": [
    "inp = \"\"\"OOOOO\n",
    "OXOXO\n",
    "OOOOO\n",
    "OXOXO\n",
    "OOOOOE\"\"\""
   ],
   "outputs": [],
   "execution_count": null
  },
  {
   "metadata": {},
   "cell_type": "code",
   "source": [
    "inp=\"\"\"AAAA\n",
    "BBCD\n",
    "BBCC\n",
    "EEEC\"\"\""
   ],
   "outputs": [],
   "execution_count": null
  },
  {
   "metadata": {},
   "cell_type": "code",
   "source": [
    "inp=\"\"\"EEEEE\n",
    "EXXXX\n",
    "EEEEE\n",
    "EXXXX\n",
    "EEEEE\"\"\""
   ],
   "outputs": [],
   "execution_count": null
  },
  {
   "metadata": {},
   "cell_type": "code",
   "source": [
    "inp=\"\"\"AAAAAA\n",
    "AAABBA\n",
    "AAABBA\n",
    "ABBAAA\n",
    "ABBAAA\n",
    "AAAAAA\"\"\""
   ],
   "outputs": [],
   "execution_count": null
  },
  {
   "metadata": {},
   "cell_type": "code",
   "source": [
    "inp = \"\"\"RRRRIICCFF\n",
    "RRRRIICCCF\n",
    "VVRRRCCFFF\n",
    "VVRCCCJFFF\n",
    "VVVVCJJCFE\n",
    "VVIVCCJJEE\n",
    "VVIIICJJEE\n",
    "MIIIIIJJEE\n",
    "MIIISIJEEE\n",
    "MMMISSJEEE\"\"\""
   ],
   "outputs": [],
   "execution_count": null
  },
  {
   "cell_type": "code",
   "metadata": {},
   "source": [
    "data = inp.splitlines()\n",
    "len_x, len_y = len(data), len(data[0])"
   ],
   "outputs": [],
   "execution_count": null
  },
  {
   "cell_type": "code",
   "metadata": {},
   "source": [
    "def scan_subgraph(i, j) -> tuple[int, int]:\n",
    "\ttarget = data[i][j]\n",
    "\tbuf = [(i, j)]\n",
    "\tarea, perimeter = 0, 0\n",
    "\n",
    "\twhile buf:\n",
    "\t\tx, y = buf.pop()\n",
    "\t\tif not (0 <= x < len_x and 0 <= y < len_y): continue\n",
    "\t\tif visited[x][y] or data[x][y] != target: continue\n",
    "\t\tvisited[x][y] = True\n",
    "\t\tneighbourhood = [(x+1, y), (x, y+1), (x-1, y), (x, y-1)]\n",
    "\n",
    "\t\tperimeter += sum(1 for (i_, j_) in neighbourhood if not (0 <= i_ < len_x and 0 <= j_ < len_y) or data[i_][j_] != target)\n",
    "\t\tarea += 1\n",
    "\t\tbuf.extend(neighbourhood)\n",
    "\n",
    "\treturn (area, perimeter)"
   ],
   "outputs": [],
   "execution_count": null
  },
  {
   "cell_type": "code",
   "metadata": {},
   "source": [
    "visited = [[False]*len_y for _ in range(len_x)]\n",
    "price = 0\n",
    "for i in range(len_x):\n",
    "\tfor j in range(len_y):\n",
    "\t\tif not(visited[i][j]):\n",
    "\t\t\tarea, perimeter = scan_subgraph(i, j)\n",
    "\t\t\tprice += area * perimeter\n",
    "print(price)\n"
   ],
   "outputs": [],
   "execution_count": null
  },
  {
   "metadata": {},
   "cell_type": "markdown",
   "source": "part 2"
  },
  {
   "metadata": {},
   "cell_type": "code",
   "source": [
    "import time\n",
    "from colorama import *\n",
    "\n",
    "DIRS = [(0, 1), (1, 0), (0, -1), (-1, 0)]  # CW - E, S, W, N\n",
    "\n",
    "def oob(x, y):\n",
    "\treturn not (0 <= x < len_x and 0 <= y < len_y)\n",
    "\n",
    "def crawl_out(x, y) -> int:\n",
    "\ttarget = data[x][y]\n",
    "\tedges = 0\n",
    "\tdir_ = 1\n",
    "\tstart = None\n",
    "\n",
    "\twhile (x, y, dir_) != start:\n",
    "\t\tif start is None: start = (x, y, dir_)\n",
    "\t\t#print(\"@@\", x, y, \"ESWN\"[dir_])\n",
    "\t\tcrawled_out.add((x, y, dir_))\n",
    "\t\twall_x, wall_y = x+DIRS[(dir_+1)%4][0], y+DIRS[(dir_+1)%4][1]\n",
    "\t\tif not oob(wall_x, wall_y) and data[wall_x][wall_y] == target:  # when possible, hug right wall\n",
    "\t\t\tdir_ = (dir_+1)%4\n",
    "\t\t\t#print(\"+<\")\n",
    "\t\t\tedges += 1\n",
    "\t\t\tif (x, y, dir_) == start: break\n",
    "\t\telse:\n",
    "\t\t\tnext_x, next_y = x+DIRS[dir_][0], y+DIRS[dir_][1]\n",
    "\t\t\tif oob(next_x, next_y) or data[next_x][next_y] != target:  # at an end, turn CCW till you have room to # move\n",
    "\t\t\t\tdir_ = (dir_-1)%4\n",
    "\t\t\t\t#print(\"+>\")\n",
    "\t\t\t\tedges += 1\n",
    "\t\t\t\tif (x, y, dir_) == start: break\n",
    "\t\t\t\tcontinue\n",
    "\n",
    "\t\t#print(x, y, \"ESWN\"[dir_])\n",
    "\t\tif start is None: start = (x, y, dir_)\n",
    "\t\tcrawled_out.add((x, y, dir_))\n",
    "\t\tdx, dy = DIRS[dir_]\n",
    "\t\tx, y = x+dx, y+dy\n",
    "\n",
    "\tprint(\"~\", x, y, \"ESWN\"[dir_], edges, target)\n",
    "\treturn edges\n",
    "\n",
    "def crawl_in(x, y) -> int:\n",
    "\ttarget = data[x][y]\n",
    "\tedges = 0\n",
    "\tdir_ = 1\n",
    "\tstart = None\n",
    "\n",
    "\twhile (x, y, dir_) != start:\n",
    "\t\tcrawled_in.add((x, y, dir_))\n",
    "\t\tif start is None: start = (x, y, dir_)\n",
    "\t\twall_x, wall_y = x+DIRS[(dir_-1)%4][0], y+DIRS[(dir_-1)%4][1]\n",
    "\t\tif not oob(wall_x, wall_y) and data[wall_x][wall_y] == target:  # when possible, hug right wall\n",
    "\t\t\tdir_ = (dir_-1)%4\n",
    "\t\t\tedges += 1\n",
    "\t\telse:\n",
    "\t\t\tnext_x, next_y = x+DIRS[dir_][0], y+DIRS[dir_][1]\n",
    "\t\t\tif oob(next_x, next_y) or data[next_x][next_y] != target:  # at an end, turn CCW till you have room to # \n",
    "\t\t\t# move\n",
    "\t\t\t\tdir_ = (dir_+1)%4\n",
    "\t\t\t\tedges += 1\n",
    "\t\t\t\tcontinue\n",
    "\n",
    "\n",
    "\t\t#print(x, y, \"ESWN\"[dir_])\n",
    "\t\tdx, dy = DIRS[dir_]\n",
    "\t\tx, y = x+dx, y+dy\n",
    "\n",
    "\t# print(\"&\", x, y, \"ESWN\"[dir_], edges, target)\n",
    "\treturn edges\n",
    "\n"
   ],
   "outputs": [],
   "execution_count": null
  },
  {
   "metadata": {},
   "cell_type": "code",
   "source": [
    "def scan_crawl_subgraph(i, j) -> tuple[int, int]:\n",
    "\ttarget = data[i][j]\n",
    "\tbuf = [(i, j)]\n",
    "\n",
    "\n",
    "\tneighbourhood = [(i+1, j), (i, j+1), (i-1, j), (i, j-1)]\n",
    "\tif all(oob(x, y) or data[x][y] != target for x, y in neighbourhood):\n",
    "\t\treturn 1, 4\n",
    "\tarea, edges = 0, crawl_out(i, j)\n",
    "\n",
    "\twhile buf:\n",
    "\t\tx, y = buf.pop()\n",
    "\t\t#print(\"+\", x, y, buf)\n",
    "\t\tif oob(x, y): continue\n",
    "\t\tif visited[x][y] or data[x][y] != target: continue\n",
    "\t\tvisited[x][y] = True\n",
    "\t\t\n",
    "\t\tarea += 1\n",
    "\n",
    "\t\tneighbourhood = [(x+1, y), (x, y+1), (x-1, y), (x, y-1)]\n",
    "\t\t\n",
    "\t\tif not oob(x, y+1) and data[x][y+1] != target and not (x, y, 3) in crawled_out and not (x, y, 1) in crawled_in:\n",
    "\t\t\t#print(\"/\")\n",
    "\t\t\tedges += crawl_in(x, y)\n",
    "\t\t\t#print(\"/\", edges)\n",
    "\t\t\n",
    "\t\tbuf.extend(((x,y) for (x,y) in neighbourhood if not oob(x, y) and data[x][y] == target and not visited[x][y]))\n",
    "\n",
    "\treturn (area, edges)\n"
   ],
   "outputs": [],
   "execution_count": null
  },
  {
   "metadata": {},
   "cell_type": "code",
   "source": [
    "from itertools import chain\n",
    "\n",
    "data = inp.splitlines()\n",
    "d = [[x for x in row] for row in data]\n",
    "len_x, len_y = len(data), len(data[0])\n",
    "visited = [[False]*len_y for _ in range(len_x)]\n",
    "crawled_out = set()\n",
    "crawled_in = set()\n",
    "price = 0\n",
    "for i in range(len_x):\n",
    "\tfor j in range(len_y):\n",
    "\t\tif not(visited[i][j]):\n",
    "\t\t\tarea, edges = scan_crawl_subgraph(i, j)\n",
    "\t\t\tprint(area, edges)\n",
    "\t\t\tprice += edges * area\n",
    "print(price)\n"
   ],
   "outputs": [],
   "execution_count": null
  },
  {
   "metadata": {},
   "cell_type": "code",
   "source": [
    "with open('D12_out.txt', 'w+') as fl:\n",
    "\tfl.write('\\\\n'.join([''.join(row) for row in d]))"
   ],
   "outputs": [],
   "execution_count": null
  }
 ],
 "metadata": {
  "kernelspec": {
   "display_name": ".venv",
   "language": "python",
   "name": "python3"
  },
  "language_info": {
   "codemirror_mode": {
    "name": "ipython",
    "version": 3
   },
   "file_extension": ".py",
   "mimetype": "text/x-python",
   "name": "python",
   "nbconvert_exporter": "python",
   "pygments_lexer": "ipython3",
   "version": "3.13.0"
  }
 },
 "nbformat": 4,
 "nbformat_minor": 2
}
