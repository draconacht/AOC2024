{
 "cells": [
  {
   "metadata": {
    "ExecuteTime": {
     "end_time": "2024-12-11T15:57:27.523814Z",
     "start_time": "2024-12-11T15:57:27.514786Z"
    }
   },
   "cell_type": "code",
   "source": [
    "import math\n",
    "from concurrent.futures.process import ProcessPoolExecutor\n",
    "from concurrent.futures.thread import ThreadPoolExecutor\n",
    "\n",
    "inp = \"125 17\""
   ],
   "id": "e34863f5721c72ba",
   "outputs": [],
   "execution_count": 56
  },
  {
   "cell_type": "code",
   "id": "initial_id",
   "metadata": {
    "collapsed": true,
    "ExecuteTime": {
     "end_time": "2024-12-11T16:18:09.489333Z",
     "start_time": "2024-12-11T16:18:09.487433Z"
    }
   },
   "source": [
    "with open('D11_inp.txt') as fl:\n",
    "\tinp = fl.read()"
   ],
   "outputs": [],
   "execution_count": 72
  },
  {
   "metadata": {
    "ExecuteTime": {
     "end_time": "2024-12-11T16:18:13.815560Z",
     "start_time": "2024-12-11T16:18:13.813663Z"
    }
   },
   "cell_type": "code",
   "source": "data = list(map(int, inp.split(\" \")))",
   "id": "1d77f5882fafa9a8",
   "outputs": [],
   "execution_count": 75
  },
  {
   "metadata": {},
   "cell_type": "markdown",
   "source": "part 1, bruteforced",
   "id": "4dcaa8f8f7937657"
  },
  {
   "metadata": {
    "ExecuteTime": {
     "end_time": "2024-12-11T16:18:14.072791Z",
     "start_time": "2024-12-11T16:18:14.070537Z"
    }
   },
   "cell_type": "code",
   "source": [
    "from itertools import *\n",
    "from functools import cache\n",
    "\n",
    "def blink(n: int) -> list[int]:\n",
    "\tif n == 0: return [1]\n",
    "\td = len(str(n))\n",
    "\tif d%2 == 0:\n",
    "\t\treturn [int(str(n)[:d//2]), int(str(n)[d//2:])]\n",
    "\treturn [2024*n]"
   ],
   "id": "2aa70c73d687805d",
   "outputs": [],
   "execution_count": 76
  },
  {
   "metadata": {
    "ExecuteTime": {
     "end_time": "2024-12-11T16:18:14.886059Z",
     "start_time": "2024-12-11T16:18:14.740002Z"
    }
   },
   "cell_type": "code",
   "source": [
    "next = data\n",
    "for i in range(25):\n",
    "\tnext = list(chain.from_iterable(map(blink, next)))\n"
   ],
   "id": "d34260ebd4600eb9",
   "outputs": [],
   "execution_count": 77
  },
  {
   "metadata": {
    "ExecuteTime": {
     "end_time": "2024-12-11T16:18:15.904368Z",
     "start_time": "2024-12-11T16:18:15.901235Z"
    }
   },
   "cell_type": "code",
   "source": "print(len(next))",
   "id": "1f561ff955e884f5",
   "outputs": [
    {
     "data": {
      "text/plain": [
       "220999"
      ]
     },
     "execution_count": 78,
     "metadata": {},
     "output_type": "execute_result"
    }
   ],
   "execution_count": 78
  },
  {
   "metadata": {},
   "cell_type": "markdown",
   "source": "part 2, cached + recursive",
   "id": "310e319d74c62cc8"
  },
  {
   "metadata": {
    "ExecuteTime": {
     "end_time": "2024-12-11T16:25:17.189096Z",
     "start_time": "2024-12-11T16:25:17.187215Z"
    }
   },
   "cell_type": "code",
   "source": [
    "def n_digits(num: int) -> int:\n",
    "\treturn int(math.log10(num)) + 1"
   ],
   "id": "ffdabdd5bbcf667c",
   "outputs": [],
   "execution_count": 86
  },
  {
   "metadata": {
    "ExecuteTime": {
     "end_time": "2024-12-11T16:25:29.632375Z",
     "start_time": "2024-12-11T16:25:29.629508Z"
    }
   },
   "cell_type": "code",
   "source": [
    "@cache\n",
    "def n_blink_size(num: int, blinks: int) -> int:\n",
    "\tif blinks == 1: return 1 if num == 0 or n_digits(num) % 2 == 1 else 2\n",
    "\t\n",
    "\tif num == 0: return n_blink_size(1, blinks - 1)\n",
    "\tif n_digits(num) % 2 == 1: return n_blink_size(num*2024, blinks-1)\n",
    "\t\n",
    "\tbrk = n_digits(num) // 2\n",
    "\treturn n_blink_size(int(str(num)[:brk]), blinks-1) + n_blink_size(int(str(num)[brk:]), blinks-1)\n"
   ],
   "id": "111c923a9ee945f0",
   "outputs": [],
   "execution_count": 91
  },
  {
   "metadata": {
    "ExecuteTime": {
     "end_time": "2024-12-11T16:25:35.980075Z",
     "start_time": "2024-12-11T16:25:35.898202Z"
    }
   },
   "cell_type": "code",
   "source": "print(sum(map(lambda x: n_blink_size(x, 75), data)))",
   "id": "4e9dc5f3b2478b5c",
   "outputs": [
    {
     "data": {
      "text/plain": [
       "261936432123724"
      ]
     },
     "execution_count": 93,
     "metadata": {},
     "output_type": "execute_result"
    }
   ],
   "execution_count": 93
  }
 ],
 "metadata": {
  "kernelspec": {
   "display_name": "Python 3",
   "language": "python",
   "name": "python3"
  },
  "language_info": {
   "codemirror_mode": {
    "name": "ipython",
    "version": 2
   },
   "file_extension": ".py",
   "mimetype": "text/x-python",
   "name": "python",
   "nbconvert_exporter": "python",
   "pygments_lexer": "ipython2",
   "version": "2.7.6"
  }
 },
 "nbformat": 4,
 "nbformat_minor": 5
}
