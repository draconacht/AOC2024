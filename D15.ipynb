{
 "cells": [
  {
   "metadata": {},
   "cell_type": "code",
   "source": [
    "from functools import *\n",
    "from itertools import *\n",
    "from operator import *\n",
    "from typing import NamedTuple\n",
    "\n",
    "class XY(NamedTuple):\n",
    "\tx: int \n",
    "\ty: int\n",
    "\t\n",
    "\tdef __add__(self, other):\n",
    "\t\treturn XY(self.x + other.x, self.y + other.y)\n",
    "\tdef __mul__(self, other: int):\n",
    "\t\treturn XY(self.x * other, self.y * other)\n",
    "\tdef __rmul__(self, other: int):\n",
    "\t\treturn XY(self.x * other, self.y * other)\n",
    "\tdef __eq__(self, other):\n",
    "\t\treturn self.x == other.x and self.y == other.y\n",
    "\n",
    "class XYPair(NamedTuple):\n",
    "\ta: XY\n",
    "\tb: XY\n",
    "\t\n",
    "\tdef __eq__(self, other):\n",
    "\t\treturn self.a == other.a and self.b == other.b or self.b == other.a and self.a == other.b\n",
    "\tdef __hash__(self):\n",
    "\t\treturn hash(tuple(sorted(self)))\n"
   ],
   "id": "9175dddb4daf5664",
   "outputs": [],
   "execution_count": null
  },
  {
   "cell_type": "code",
   "id": "initial_id",
   "metadata": {
    "collapsed": true
   },
   "source": [
    "inp = \"\"\"##########\n",
    "#..O..O.O#\n",
    "#......O.#\n",
    "#.OO..O.O#\n",
    "#..O@..O.#\n",
    "#O#..O...#\n",
    "#O..O..O.#\n",
    "#.OO.O.OO#\n",
    "#....O...#\n",
    "##########\n",
    "\n",
    "<vv>^<v^>v>^vv^v>v<>v^v<v<^vv<<<^><<><>>v<vvv<>^v^>^<<<><<v<<<v^vv^v>^\n",
    "vvv<<^>^v^^><<>>><>^<<><^vv^^<>vvv<>><^^v>^>vv<>v<<<<v<^v>^<^^>>>^<v<v\n",
    "><>vv>v^v^<>><>>>><^^>vv>v<^^^>>v^v^<^^>v^^>v^<^v>v<>>v^v^<v>v^^<^^vv<\n",
    "<<v<^>>^^^^>>>v^<>vvv^><v<<<>^^^vv^<vvv>^>v<^^^^v<>^>vvvv><>>v^<<^^^^^\n",
    "^><^><>>><>^^<<^^v>>><^<v>^<vv>>v>>>^v><>^v><<<<v>>v<v<v>vvv>^<><<>^><\n",
    "^>><>^v<><^vvv<^^<><v<<<<<><^v<<<><<<^^<v<^^^><^>>^<v^><<<^>>^v<v^v<v^\n",
    ">^>>^v>vv>^<<^v<>><<><<v<<v><>v<^vv<<<>^^v^>^^>>><<^v>>v^v><^^>>^<>vv^\n",
    "<><^^>^^^<><vvvvv^v<v<<>^v<v>v<<^><<><<><<<^^<<<^<<>><<><^^^>^^<>^>v<>\n",
    "^^>vv<^v^v<vv>^<><v<^v>^^^>>>^^vvv^>vvv<>>>^<^>>>>>^<<^v>^vvv<>^<><<v>\n",
    "v^^>>><<^^<>>^v^<v^vv<>v^<<>^<^v^v><^<<<><<^<v><v<>vv>>v><v^<vv<>v^<<^\"\"\""
   ],
   "outputs": [],
   "execution_count": null
  },
  {
   "metadata": {},
   "cell_type": "code",
   "source": [
    "with open(\"D15_inp.txt\") as fl:\n",
    "\tinp = fl.read()"
   ],
   "id": "d3ef08fc83b589fc",
   "outputs": [],
   "execution_count": null
  },
  {
   "metadata": {},
   "cell_type": "code",
   "source": [
    "layout, actions = inp.split(\"\\n\\n\")\n",
    "layout = [list(row) for row in layout.splitlines()]\n",
    "actions = list(actions.replace(\"\\n\",\"\"))\n",
    "dirs = [XY(-1, 0), XY(0, 1), XY(1, 0), XY(0, -1)]  # N E S W\n",
    "dmap = {\"^\": dirs[0], \">\": dirs[1], \"v\": dirs[2], \"<\": dirs[3]}"
   ],
   "id": "6e39978ac327fc06",
   "outputs": [],
   "execution_count": null
  },
  {
   "metadata": {},
   "cell_type": "markdown",
   "source": "part 1",
   "id": "c128238ecb65389c"
  },
  {
   "metadata": {},
   "cell_type": "code",
   "source": [
    "bot = XY(-1, -1)\n",
    "walls = set()\n",
    "blocks = set()\n",
    "movements = []\n",
    "\n",
    "for i, row in enumerate(layout):\n",
    "\tfor j, cell in enumerate(row):\n",
    "\t\tif cell == \"@\":\n",
    "\t\t\tbot = XY(i, j)\n",
    "\t\tif cell == \"#\":\n",
    "\t\t\twalls.add(XY(i, j))\n",
    "\t\tif cell == \"O\":\n",
    "\t\t\tblocks.add(XY(i, j))\n",
    "\t\n",
    "for action in actions:\n",
    "\tmovements.append(dmap[action])"
   ],
   "id": "421a5fc73c6d2fac",
   "outputs": [],
   "execution_count": null
  },
  {
   "metadata": {},
   "cell_type": "code",
   "source": [
    "pos = bot\n",
    "for movement in movements:\n",
    "\tnext_pos = bot + movement\n",
    "\tif next_pos in walls: continue\n",
    "\t\n",
    "\tif next_pos in blocks:\n",
    "\t\timpact = next_pos\n",
    "\t\twhile impact in blocks:\n",
    "\t\t\timpact += movement\n",
    "\t\tif impact in walls: continue\n",
    "\t\telse:\n",
    "\t\t\tblocks.remove(next_pos)\n",
    "\t\t\tblocks.add(impact)\n",
    "\t\n",
    "\tbot = next_pos"
   ],
   "id": "ae6541e8099c234a",
   "outputs": [],
   "execution_count": null
  },
  {
   "metadata": {},
   "cell_type": "code",
   "source": [
    "for i, row in enumerate(layout):\n",
    "\tfor j, cell in enumerate(row):\n",
    "\t\tif XY(i, j) in walls: print(\"#\", end=\"\")\n",
    "\t\telif XY(i, j) in blocks: print(\"O\", end=\"\")\n",
    "\t\telif bot == XY(i, j): print(\"@\", end=\"\")\n",
    "\t\telse: print(\".\", end=\"\")\n",
    "\tprint(\"\")\n"
   ],
   "id": "65708283d423b05",
   "outputs": [],
   "execution_count": null
  },
  {
   "metadata": {},
   "cell_type": "code",
   "source": "print(sum(100*block.x + block.y for block in blocks))",
   "id": "fcf797de87f2cef1",
   "outputs": [],
   "execution_count": null
  },
  {
   "metadata": {},
   "cell_type": "markdown",
   "source": "part 2",
   "id": "d96b569d28995d5b"
  },
  {
   "metadata": {},
   "cell_type": "code",
   "source": [
    "bot = XY(-1, -1)\n",
    "walls = set()\n",
    "blocks = set()\n",
    "movements = []\n",
    "\n",
    "for i, row in enumerate(layout):\n",
    "\tfor j, cell in enumerate(row):\n",
    "\t\tif cell == \"@\":\n",
    "\t\t\tbot = XY(i, 2*j)\n",
    "\t\tif cell == \"#\":\n",
    "\t\t\twalls.update([XY(i, 2*j), XY(i, 2*j+1)])\n",
    "\t\tif cell == \"O\":\n",
    "\t\t\tblocks.add(XYPair(XY(i, 2*j), XY(i, 2*j+1)))\n",
    "\n",
    "for action in actions:\n",
    "\tmovements.append(dmap[action])"
   ],
   "id": "bd22a55e61750c01",
   "outputs": [],
   "execution_count": null
  },
  {
   "metadata": {},
   "cell_type": "code",
   "source": [
    "for movement in movements:\n",
    "\tnext_pos = bot + movement\n",
    "\t\n",
    "\tanti_b_buf = set()\n",
    "\tb_buf = set()\n",
    "\n",
    "\tif movement.y != 0:  # horizontal movement follows similar logic as before\n",
    "\t\timpact = next_pos\n",
    "\t\twhile XYPair(impact, impact+movement) in blocks:\n",
    "\t\t\tanti_b_buf.add(XYPair(impact, impact+movement))\n",
    "\t\t\tb_buf.add(XYPair(impact+movement, impact+2*movement))\n",
    "\t\t\timpact += 2*movement\n",
    "\t\tif impact in walls: continue\n",
    "\n",
    "\tif movement.x != 0:\n",
    "\t\timpact, next_impact = [], [next_pos]\n",
    "\t\twalled = False\n",
    "\t\tb_buf, anti_b_buf = set(), set()\n",
    "\t\t\n",
    "\t\twhile next_impact and not walled:\n",
    "\t\t\timpact, next_impact = next_impact, []\n",
    "\t\t\tfor point in impact:\n",
    "\t\t\t\tif point in walls:\n",
    "\t\t\t\t\twalled = True\n",
    "\t\t\t\t\tbreak\n",
    "\t\t\t\t\t\n",
    "\t\t\t\tif (old := XYPair(point, point+XY(0, 1))) in blocks:\n",
    "\t\t\t\t\tnew_ = XYPair(point+movement, point+movement+XY(0, 1))\n",
    "\t\t\t\telif (old := XYPair(point, point+XY(0, -1))) in blocks:\n",
    "\t\t\t\t\tnew_ = XYPair(point+movement, point+movement+XY(0, -1))\n",
    "\t\t\t\telse: continue\n",
    "\t\t\t\t\n",
    "\t\t\t\tanti_b_buf.add(old)\n",
    "\t\t\t\tb_buf.add(new_)\n",
    "\t\t\t\tnext_impact += [*new_]\n",
    "\t\t\n",
    "\t\tif walled: continue\n",
    "\t\t\n",
    "\tblocks = (blocks - anti_b_buf) | b_buf\n",
    "\tbot = next_pos"
   ],
   "id": "567cea16910f7c38",
   "outputs": [],
   "execution_count": null
  },
  {
   "metadata": {},
   "cell_type": "code",
   "source": [
    "def print_boxes():\n",
    "\tfor i, row in enumerate(layout):\n",
    "\t\tfor j in range(2*len(row)):\n",
    "\t\t\tif XY(i, j) in walls: print(\"#\", end=\"\")\n",
    "\t\t\telif XYPair(XY(i, j), XY(i, j+1)) in blocks: print(\"[\", end=\"\")\n",
    "\t\t\telif XYPair(XY(i, j), XY(i, j-1)) in blocks: print(\"]\", end=\"\")\n",
    "\t\t\telif bot == XY(i, j): print(\"@\", end=\"\")\n",
    "\t\t\telse: print(\".\", end=\"\")\n",
    "\t\tprint(\"\")\n"
   ],
   "id": "a6849810d812e2b2",
   "outputs": [],
   "execution_count": null
  },
  {
   "metadata": {},
   "cell_type": "code",
   "source": "print(sum(100*sorted(block)[0].x + sorted(block)[0].y for block in blocks))\n",
   "id": "729e6a645daf3c29",
   "outputs": [],
   "execution_count": null
  }
 ],
 "metadata": {
  "kernelspec": {
   "display_name": "Python 3",
   "language": "python",
   "name": "python3"
  },
  "language_info": {
   "codemirror_mode": {
    "name": "ipython",
    "version": 2
   },
   "file_extension": ".py",
   "mimetype": "text/x-python",
   "name": "python",
   "nbconvert_exporter": "python",
   "pygments_lexer": "ipython2",
   "version": "2.7.6"
  }
 },
 "nbformat": 4,
 "nbformat_minor": 5
}
