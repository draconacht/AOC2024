{
 "cells": [
  {
   "cell_type": "code",
   "metadata": {},
   "source": [
    "with open(\"D17_inp.txt\") as fl:\n",
    "\tinp = fl.read().splitlines()"
   ],
   "outputs": [],
   "execution_count": null
  },
  {
   "cell_type": "code",
   "metadata": {},
   "source": [
    "inp = \"\"\"Register A: 729\n",
    "Register B: 0\n",
    "Register C: 0\n",
    "\n",
    "Program: 0,1,5,4,3,0\"\"\".splitlines()"
   ],
   "outputs": [],
   "execution_count": null
  },
  {
   "cell_type": "code",
   "metadata": {},
   "source": [
    "inp = \"\"\"Register A: 2024\n",
    "Register B: 0\n",
    "Register C: 0\n",
    "\n",
    "Program: 0,3,5,4,3,0\"\"\".splitlines()"
   ],
   "outputs": [],
   "execution_count": null
  },
  {
   "cell_type": "code",
   "metadata": {},
   "source": [
    "reg = {0: 0, 1: 0, 2: 0}\n",
    "state = {0: \"A\", 1: \"0\", 2: \"0\"}\n",
    "pc = 0\n",
    "buf = []\n",
    "ctr = 0\n",
    "\n",
    "for i in range(3):\n",
    "\treg[i] = int(inp[i].rpartition(': ')[-1])\n",
    "program_raw = [int(x) for x in inp[-1].rpartition(': ')[-1].split(',')]"
   ],
   "outputs": [],
   "execution_count": null
  },
  {
   "cell_type": "code",
   "metadata": {},
   "source": [
    "print(reg)\n",
    "print(program_raw)"
   ],
   "outputs": [],
   "execution_count": null
  },
  {
   "cell_type": "code",
   "metadata": {},
   "source": [
    "def adv(cval: int):\n",
    "\tval = reg.get(cval-4, cval)\n",
    "\treg[0] >>= val\n",
    "\n",
    "def bxl(val: int):\n",
    "\treg[1] ^= val\n",
    "\n",
    "def bst(cval: int):\n",
    "\tval = reg.get(cval-4, cval)\n",
    "\treg[1] = val & 0b111\n",
    "\n",
    "def jnz(val: int):\n",
    "\tglobal pc\n",
    "\tif reg[0]: pc = val - 2\n",
    "\n",
    "def bxc(_: int):\n",
    "\treg[1] ^= reg[2]\n",
    "\n",
    "def out(cval: int):\n",
    "\tval = reg.get(cval-4, cval)\n",
    "\tbuf.append(val & 0b111)\n",
    "\n",
    "def bdv(cval: int):\n",
    "\tval = reg.get(cval-4, cval)\n",
    "\treg[1] = reg[0] >> val\n",
    "\n",
    "def cdv(cval: int):\n",
    "\tval = reg.get(cval-4, cval)\n",
    "\treg[2] = reg[0] >> val\n"
   ],
   "outputs": [],
   "execution_count": null
  },
  {
   "metadata": {},
   "cell_type": "code",
   "source": [
    "ops = [adv, bxl, bst, jnz, bxc, out, bdv, cdv]\n",
    "pc = 0\n",
    "buf = []\n",
    "\n",
    "while pc + 1 < len(program_raw):\n",
    "\topc, param = program_raw[pc], program_raw[pc+1]\n",
    "\tops[opc](param)\n",
    "\tpc += 2\n",
    "\t\n",
    "print(\",\".join(map(str, buf)))"
   ],
   "outputs": [],
   "execution_count": null
  },
  {
   "cell_type": "code",
   "metadata": {},
   "source": "program_raw",
   "outputs": [],
   "execution_count": null
  },
  {
   "cell_type": "markdown",
   "metadata": {},
   "source": [
    "part 2"
   ]
  },
  {
   "cell_type": "code",
   "metadata": {},
   "source": [
    "program_raw"
   ],
   "outputs": [],
   "execution_count": null
  },
  {
   "metadata": {},
   "cell_type": "code",
   "source": [
    "def f(a):  # only works for my input, simplify other as needed\n",
    "\tb = (a & 7) ^ 4\n",
    "\tc = a >> b\n",
    "\tb = (b ^ c) ^ 4\n",
    "\treturn b & 7\n",
    "\n",
    "def satisfactory(pre_a, height):\n",
    "\tif height == len(program_raw):\n",
    "\t\treturn pre_a\n",
    "\t\n",
    "\tfor i in range(8):\n",
    "\t\ttest = (pre_a << 3) + i\n",
    "\t\ttarget = program_raw[-1-height]\n",
    "\t\tif f(test) == target:\n",
    "\t\t\tret = satisfactory(test, height+1)\n",
    "\t\t\tif ret: return ret\n",
    "\treturn 0"
   ],
   "outputs": [],
   "execution_count": null
  },
  {
   "metadata": {},
   "cell_type": "code",
   "source": [
    "i = 156985331222018\n",
    "reg = {0: i, 1: 0, 2: 0}\n",
    "pc = 0\n",
    "buf = []\n",
    "\n",
    "while pc + 1 < len(program_raw):\n",
    "\topc, param = program_raw[pc], program_raw[pc+1]\n",
    "\tops[opc](param)\n",
    "\tpc += 2\n",
    "\t\n",
    "print(buf)\n",
    "print(\",\".join(map(str, buf)))\n"
   ],
   "outputs": [],
   "execution_count": null
  },
  {
   "metadata": {},
   "cell_type": "code",
   "source": "",
   "outputs": [],
   "execution_count": null
  }
 ],
 "metadata": {
  "kernelspec": {
   "display_name": ".venv",
   "language": "python",
   "name": "python3"
  },
  "language_info": {
   "codemirror_mode": {
    "name": "ipython",
    "version": 3
   },
   "file_extension": ".py",
   "mimetype": "text/x-python",
   "name": "python",
   "nbconvert_exporter": "python",
   "pygments_lexer": "ipython3",
   "version": "3.13.0"
  }
 },
 "nbformat": 4,
 "nbformat_minor": 2
}
