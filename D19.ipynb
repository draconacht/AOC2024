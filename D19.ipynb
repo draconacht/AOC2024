{
 "cells": [
  {
   "cell_type": "code",
   "metadata": {},
   "source": [
    "with open(\"D19_inp.txt\") as fl:\n",
    "  inp = fl.read()"
   ],
   "outputs": [],
   "execution_count": null
  },
  {
   "cell_type": "code",
   "metadata": {},
   "source": [
    "inp=\"\"\"r, wr, b, g, bwu, rb, gb, br\n",
    "\n",
    "brwrr\n",
    "bggr\n",
    "gbbr\n",
    "rrbgbr\n",
    "ubwu\n",
    "bwurrg\n",
    "brgr\n",
    "bbrgwb\"\"\""
   ],
   "outputs": [],
   "execution_count": null
  },
  {
   "cell_type": "code",
   "metadata": {},
   "source": [
    "towels, _, designs = inp.partition(\"\\n\\n\")\n",
    "towels = set(towels.split(\", \"))\n",
    "designs = designs.splitlines()\n",
    "max_towel_size = max(map(len, towels))"
   ],
   "outputs": [],
   "execution_count": null
  },
  {
   "cell_type": "code",
   "metadata": {},
   "source": [
    "towels, designs, max_towel_size"
   ],
   "outputs": [],
   "execution_count": null
  },
  {
   "cell_type": "code",
   "metadata": {},
   "source": [
    "from functools import cache\n",
    "from itertools import *\n",
    "\n",
    "@cache\n",
    "def feasible(lookup: str):\n",
    "  for pre in accumulate(lookup):\n",
    "    if len(pre) > max_towel_size: return False\n",
    "    if pre not in towels: continue\n",
    "    if lookup == pre: return True\n",
    "    if feasible(lookup.removeprefix(pre)): return True"
   ],
   "outputs": [],
   "execution_count": null
  },
  {
   "cell_type": "code",
   "metadata": {},
   "source": [
    "print(sum(map(feasible, designs)))"
   ],
   "outputs": [],
   "execution_count": null
  },
  {
   "cell_type": "markdown",
   "metadata": {},
   "source": [
    "part 2"
   ]
  },
  {
   "cell_type": "code",
   "metadata": {},
   "source": [
    "from functools import cache\n",
    "from itertools import *\n",
    "\n"
   ],
   "outputs": [],
   "execution_count": null
  },
  {
   "cell_type": "code",
   "metadata": {},
   "source": [
    "@cache\n",
    "def n_feasibles(lookup: str):\n",
    "  if not lookup: return 1\n",
    "  toret = 0\n",
    "  for pre in islice(accumulate(lookup), max_towel_size):\n",
    "    if pre not in towels: continue\n",
    "    toret += n_feasibles(lookup.removeprefix(pre))\n",
    "  return toret\n",
    "sum(map(n_feasibles, designs))"
   ],
   "outputs": [],
   "execution_count": null
  }
 ],
 "metadata": {
  "kernelspec": {
   "display_name": ".venv",
   "language": "python",
   "name": "python3"
  },
  "language_info": {
   "codemirror_mode": {
    "name": "ipython",
    "version": 3
   },
   "file_extension": ".py",
   "mimetype": "text/x-python",
   "name": "python",
   "nbconvert_exporter": "python",
   "pygments_lexer": "ipython3",
   "version": "3.13.0"
  }
 },
 "nbformat": 4,
 "nbformat_minor": 2
}
