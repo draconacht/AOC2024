{
 "cells": [
  {
   "cell_type": "code",
   "id": "initial_id",
   "metadata": {
    "collapsed": true
   },
   "source": [
    "from collections import defaultdict\n",
    "from functools import *\n",
    "from itertools import *\n",
    "from operator import *\n",
    "from typing import NamedTuple\n",
    "\n",
    "class XY(NamedTuple):\n",
    "\tx: int\n",
    "\ty: int\n",
    "\n",
    "\tdef __add__(self, other):\n",
    "\t\treturn XY(self.x + other.x, self.y + other.y)\n",
    "\tdef __sub__(self, other):\n",
    "\t\treturn XY(self.x - other.x, self.y - other.y)\n",
    "\tdef __mul__(self, other: int):\n",
    "\t\treturn XY(self.x * other, self.y * other)\n",
    "\tdef __rmul__(self, other: int):\n",
    "\t\treturn XY(self.x * other, self.y * other)\n",
    "\tdef __eq__(self, other):\n",
    "\t\treturn self.x == other.x and self.y == other.y\n"
   ],
   "outputs": [],
   "execution_count": null
  },
  {
   "metadata": {},
   "cell_type": "code",
   "source": [
    "with open(\"D16_inp.txt\") as fl:\n",
    "\tinp = fl.read().replace(\"E\", \".\")"
   ],
   "id": "b675ea154eb2a510",
   "outputs": [],
   "execution_count": null
  },
  {
   "metadata": {},
   "cell_type": "code",
   "source": [
    "inp = \"\"\"###############\n",
    "#.......#....E#\n",
    "#.#.###.#.###.#\n",
    "#.....#.#...#.#\n",
    "#.###.#####.#.#\n",
    "#.#.#.......#.#\n",
    "#.#.#####.###.#\n",
    "#...........#.#\n",
    "###.#.#####.#.#\n",
    "#...#.....#.#.#\n",
    "#.#.#.###.#.#.#\n",
    "#.....#...#.#.#\n",
    "#.###.#.#.#.#.#\n",
    "#S..#.....#...#\n",
    "###############\"\"\".replace(\"E\", \".\")"
   ],
   "id": "bce39572b81bb79b",
   "outputs": [],
   "execution_count": null
  },
  {
   "metadata": {},
   "cell_type": "code",
   "source": [
    "inp = \"\"\"#################\n",
    "#...#...#...#..E#\n",
    "#.#.#.#.#.#.#.#.#\n",
    "#.#.#.#...#...#.#\n",
    "#.#.#.#.###.#.#.#\n",
    "#...#.#.#.....#.#\n",
    "#.#.#.#.#.#####.#\n",
    "#.#...#.#.#.....#\n",
    "#.#.#####.#.###.#\n",
    "#.#.#.......#...#\n",
    "#.#.###.#####.###\n",
    "#.#.#...#.....#.#\n",
    "#.#.#.#####.###.#\n",
    "#.#.#.........#.#\n",
    "#.#.#.#########.#\n",
    "#S#.............#\n",
    "#################\"\"\".replace(\"E\", \".\")"
   ],
   "id": "a6f01108f01cecab",
   "outputs": [],
   "execution_count": null
  },
  {
   "metadata": {},
   "cell_type": "code",
   "source": [
    "data = inp.splitlines()\n",
    "len_x, len_y = len(data), len(data[0])\n",
    "dirs = [XY(-1, 0), XY(0, 1), XY(1, 0), XY(0, -1)]  # N E S W"
   ],
   "id": "e6162e61dd54e814",
   "outputs": [],
   "execution_count": null
  },
  {
   "metadata": {},
   "cell_type": "code",
   "source": [
    "layer, next_layer = {}, {XY(len_x-2, 1): 1}\n",
    "min_scores = {XY(x, y):10**8 for x, y in product(range(len_x), range(len_y))}\n",
    "min_scores[XY(len_x-2, 1)] = 0\n",
    "min_path = [[4]*len_y for _ in range(len_x)]\n",
    "\n",
    "while next_layer:\n",
    "\tlayer, next_layer = next_layer, {}\n",
    "\tfor node, dir_ in layer.items():\n",
    "\t\tmin_path[node.x][node.y] = dir_\n",
    "\t\t\n",
    "\t\tfront = node + dirs[dir_]\n",
    "\t\tfront_score = min_scores[node] + 1\n",
    "\t\tif data[front.x][front.y] == \".\" and min_scores[front] > front_score:\n",
    "\t\t\tnext_layer[front] = dir_\n",
    "\t\t\tmin_scores[front] = front_score\n",
    "\t\t\n",
    "\t\tright = node + dirs[(dir_ + 1) % 4]\n",
    "\t\tright_score = min_scores[node] + 1001\n",
    "\t\tif data[right.x][right.y] == \".\" and min_scores[right] > right_score:\n",
    "\t\t\tnext_layer[right] = (dir_+1)%4\n",
    "\t\t\tmin_scores[right] = right_score\n",
    "\n",
    "\t\tleft = node + dirs[(dir_ - 1) % 4]\n",
    "\t\tleft_score = min_scores[node] + 1001\n",
    "\t\tif data[left.x][left.y] == \".\" and min_scores[left] > left_score:\n",
    "\t\t\tnext_layer[left] = (dir_-1)%4\n",
    "\t\t\tmin_scores[left] = left_score\n",
    "\t"
   ],
   "id": "f044fce2d80d6f32",
   "outputs": [],
   "execution_count": null
  },
  {
   "metadata": {},
   "cell_type": "code",
   "source": [
    "out = []\n",
    "mval = max((x for x in min_scores.values() if x < 10**8))\n",
    "for i in range(len_x):\n",
    "\tout.append([])\n",
    "\tfor j in range(len_y):\n",
    "\t\ts = min_scores[XY(i, j)]\n",
    "\t\ts = 1.2*mval if s == 10**8 else s\n",
    "\t\tout[-1].append(s)\n",
    "\t\t"
   ],
   "id": "1dc7b30a03789dd",
   "outputs": [],
   "execution_count": null
  },
  {
   "metadata": {},
   "cell_type": "code",
   "source": [
    "import seaborn as sns\n",
    "\n",
    "sns.heatmap(out)"
   ],
   "id": "7e42e7ea29de31c0",
   "outputs": [],
   "execution_count": null
  },
  {
   "metadata": {},
   "cell_type": "code",
   "source": [
    "end = XY(1, len_y-2)\n",
    "traceback = [(end, min_path[end.x][end.y], min_scores[end])]\n",
    "\n",
    "while traceback[-1][0] != XY(len_x-2, 1):\n",
    "\tnode, dir_, score = traceback[-1]\n",
    "\tnext_ = node-dirs[dir_]\n",
    "\ttraceback.append((next_, min_path[next_.x][next_.y], min_scores[next_]))\n"
   ],
   "id": "69ac89e479aec0ef",
   "outputs": [],
   "execution_count": null
  },
  {
   "metadata": {},
   "cell_type": "code",
   "source": [
    "from collections import *\n",
    "benches = {XY(x, y):False for x, y in product(range(len_x), range(len_y))}\n",
    "stk = set()\n",
    "\n",
    "@cache\n",
    "def benchable(xy: XY, dir_, score):\n",
    "\tif data[xy.x][xy.y] == \"#\": \n",
    "\t\treturn False\n",
    "\t\n",
    "\tif (xy, dir_, score) in traceback:\n",
    "\t\tbenches[xy] = True\n",
    "\t\treturn True\n",
    "\t\n",
    "\tif (benchable_cached(xy + dirs[dir_], dir_, score+1) or \n",
    "\t\t\tbenchable_cached(xy + dirs[(dir_-1)%4], (dir_-1)%4, score+1001) or \n",
    "\t\t\tbenchable_cached(xy + dirs[(dir_+1)%4], (dir_+1)%4, score+1001)):\n",
    "\t\tbenches[xy] = True\n",
    "\t\treturn True\n",
    "\n",
    "\treturn False\n",
    "\n",
    "min_failing_score = defaultdict(lambda: min_scores[XY(1, len_y-2)])\n",
    "def benchable_cached(xy, dir_, score):\n",
    "\tif score > min_failing_score[(xy, dir_)]:\n",
    "\t\treturn False\n",
    "\tif xy in stk: return False\n",
    "\t\n",
    "\tstk.add(xy)\n",
    "\ttoret = benchable(xy, dir_, score)\n",
    "\tstk.remove(xy)\n",
    "\t\n",
    "\tif toret is False: \n",
    "\t\tmin_failing_score[(xy, dir_)] = score\n",
    "\t\t\n",
    "\treturn toret\n",
    "\t\t"
   ],
   "id": "ae6e20e148717cf5",
   "outputs": [],
   "execution_count": null
  },
  {
   "metadata": {},
   "cell_type": "code",
   "source": "stk",
   "id": "cb695f0194a5bd37",
   "outputs": [],
   "execution_count": null
  },
  {
   "metadata": {},
   "cell_type": "code",
   "source": [
    "import sys\n",
    "sys.setrecursionlimit(10_000)\n",
    "for node, dir_, score in traceback:\n",
    "\tbenchable_cached(node, dir_, score)\n",
    "\n",
    "\tbenchable_cached(node + dirs[(dir_-1)%4], (dir_-1)%4, score+1001)\n",
    "\tbenchable_cached(node + dirs[(dir_+1)%4], (dir_+1)%4, score+1001)\n",
    "\t"
   ],
   "id": "1e606c15401668aa",
   "outputs": [],
   "execution_count": null
  },
  {
   "metadata": {},
   "cell_type": "code",
   "source": "len(stk)",
   "id": "81c5353ff6b9b95e",
   "outputs": [],
   "execution_count": null
  },
  {
   "metadata": {},
   "cell_type": "code",
   "source": "len([pos for pos, exists in benches.items() if exists])",
   "id": "89cda7da118e25b8",
   "outputs": [],
   "execution_count": null
  },
  {
   "metadata": {},
   "cell_type": "code",
   "source": "",
   "id": "f5a5e9a383067f8c",
   "outputs": [],
   "execution_count": null
  }
 ],
 "metadata": {
  "kernelspec": {
   "display_name": "Python 3",
   "language": "python",
   "name": "python3"
  },
  "language_info": {
   "codemirror_mode": {
    "name": "ipython",
    "version": 2
   },
   "file_extension": ".py",
   "mimetype": "text/x-python",
   "name": "python",
   "nbconvert_exporter": "python",
   "pygments_lexer": "ipython2",
   "version": "2.7.6"
  }
 },
 "nbformat": 4,
 "nbformat_minor": 5
}
