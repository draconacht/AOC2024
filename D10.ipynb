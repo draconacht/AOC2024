{
 "cells": [
  {
   "metadata": {
    "ExecuteTime": {
     "end_time": "2024-12-10T15:42:59.065124Z",
     "start_time": "2024-12-10T15:42:59.063199Z"
    }
   },
   "cell_type": "code",
   "source": [
    "with open(\"D10_inp.txt\") as fl:\n",
    "\tinp = fl.read()"
   ],
   "id": "e74f0516e353001f",
   "outputs": [],
   "execution_count": 1
  },
  {
   "metadata": {
    "ExecuteTime": {
     "end_time": "2024-12-10T15:42:59.744708Z",
     "start_time": "2024-12-10T15:42:59.742128Z"
    }
   },
   "cell_type": "code",
   "source": [
    "from functools import *\n",
    "from itertools import *\n",
    "from operator import *\n",
    "\n",
    "data = [list(map(int, x)) for x in inp.splitlines()]\n",
    "x_len, y_len = len(data), len(data[0])"
   ],
   "id": "dcf76399435c76f6",
   "outputs": [],
   "execution_count": 2
  },
  {
   "metadata": {},
   "cell_type": "markdown",
   "source": "part 1",
   "id": "261feb9570d4710f"
  },
  {
   "metadata": {
    "ExecuteTime": {
     "end_time": "2024-12-10T15:43:00.992042Z",
     "start_time": "2024-12-10T15:43:00.989609Z"
    }
   },
   "cell_type": "code",
   "source": [
    "def get_trails(x, y, num):\n",
    "\tif not (0 <= x < x_len and 0 <= y < y_len): return set()\n",
    "\tif data[x][y] != num: return set()\n",
    "\tif num == 9:\n",
    "\t\treturn {(x, y)}\n",
    "\n",
    "\treturn set.union(*starmap(get_trails,[(x+1, y, num+1), (x-1, y, num+1), (x, y+1, num+1), (x, y-1, num+1)]))"
   ],
   "id": "f1e751260554aa17",
   "outputs": [],
   "execution_count": 3
  },
  {
   "metadata": {
    "ExecuteTime": {
     "end_time": "2024-12-10T15:43:01.739048Z",
     "start_time": "2024-12-10T15:43:01.730570Z"
    }
   },
   "cell_type": "code",
   "source": [
    "trails = 0\n",
    "for i in range(x_len):\n",
    "\tfor j in range(y_len):\n",
    "\t\ttrails += len(get_trails(i, j, 0))\n",
    "print(trails)"
   ],
   "id": "f06a299139f8db89",
   "outputs": [
    {
     "name": "stdout",
     "output_type": "stream",
     "text": [
      "674\n"
     ]
    }
   ],
   "execution_count": 4
  },
  {
   "metadata": {},
   "cell_type": "markdown",
   "source": "part 2",
   "id": "e9c7420391ab7a62"
  },
  {
   "metadata": {
    "ExecuteTime": {
     "end_time": "2024-12-10T15:43:03.385258Z",
     "start_time": "2024-12-10T15:43:03.382401Z"
    }
   },
   "cell_type": "code",
   "source": [
    "def get_trails(x, y, num):\n",
    "\tif not (0 <= x < x_len and 0 <= y < y_len): return 0\n",
    "\tif data[x][y] != num: return 0\n",
    "\tif num == 9: return 1\n",
    "\n",
    "\treturn sum(starmap(get_trails,[(x+1, y, num+1), (x-1, y, num+1), (x, y+1, num+1), (x, y-1, num+1)]))"
   ],
   "id": "b748b094a671d41e",
   "outputs": [],
   "execution_count": 5
  },
  {
   "metadata": {
    "ExecuteTime": {
     "end_time": "2024-12-10T15:43:04.060844Z",
     "start_time": "2024-12-10T15:43:04.054916Z"
    }
   },
   "cell_type": "code",
   "source": [
    "trails = 0\n",
    "for i in range(x_len):\n",
    "\tfor j in range(y_len):\n",
    "\t\ttrails += get_trails(i, j, 0)\n",
    "print(trails)"
   ],
   "id": "2a9a9ccb69f7673d",
   "outputs": [
    {
     "name": "stdout",
     "output_type": "stream",
     "text": [
      "1372\n"
     ]
    }
   ],
   "execution_count": 6
  }
 ],
 "metadata": {
  "kernelspec": {
   "display_name": "Python 3",
   "language": "python",
   "name": "python3"
  },
  "language_info": {
   "codemirror_mode": {
    "name": "ipython",
    "version": 2
   },
   "file_extension": ".py",
   "mimetype": "text/x-python",
   "name": "python",
   "nbconvert_exporter": "python",
   "pygments_lexer": "ipython2",
   "version": "2.7.6"
  }
 },
 "nbformat": 4,
 "nbformat_minor": 5
}
