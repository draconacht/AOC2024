{
 "cells": [
  {
   "metadata": {},
   "cell_type": "code",
   "source": [
    "inp = \"\"\"............\n",
    "........0...\n",
    ".....0......\n",
    ".......0....\n",
    "....0.......\n",
    "......A.....\n",
    "............\n",
    "............\n",
    "........A...\n",
    ".........A..\n",
    "............\n",
    "............\"\"\""
   ],
   "id": "def006f5f63c5383",
   "outputs": [],
   "execution_count": null
  },
  {
   "cell_type": "code",
   "id": "initial_id",
   "metadata": {
    "collapsed": true
   },
   "source": [
    "with open(\"D08_inp.txt\") as fl:\n",
    "\tinp = fl.read()"
   ],
   "outputs": [],
   "execution_count": null
  },
  {
   "metadata": {},
   "cell_type": "code",
   "source": "data = inp.splitlines()",
   "id": "133ab46a2395deab",
   "outputs": [],
   "execution_count": null
  },
  {
   "metadata": {},
   "cell_type": "markdown",
   "source": "part 1",
   "id": "53c6ef5f43160a9c"
  },
  {
   "metadata": {},
   "cell_type": "code",
   "source": [
    "from collections import defaultdict\n",
    "from itertools import *\n",
    "from functools import *\n",
    "\n",
    "antinodes = set()\n",
    "nodes = defaultdict(list)\n",
    "for i, row in enumerate(data):\n",
    "\tfor j, cell in enumerate(row):\n",
    "\t\tif cell == \".\": continue\n",
    "\t\tantinodes.update(filter((lambda xy: 0 <= xy[0] < len(data) and 0 <= xy[1] < len(row)), \n",
    "\t\t\t\t\t\t\t\t\t\t\t\t\t\tchain.from_iterable(((x+(x-i), y+ (y-j)),(i-(x-i) , j-(y-j))) for x, y\tin nodes[cell])))\n",
    "\t\tnodes[cell].append((i, j))\n",
    "\t\t"
   ],
   "id": "aa447e8bded6a758",
   "outputs": [],
   "execution_count": null
  },
  {
   "metadata": {},
   "cell_type": "code",
   "source": "print(len(antinodes))",
   "id": "b1b9b5b320855d27",
   "outputs": [],
   "execution_count": null
  },
  {
   "metadata": {},
   "cell_type": "markdown",
   "source": "part 2",
   "id": "faf17120700b417f"
  },
  {
   "metadata": {},
   "cell_type": "code",
   "source": [
    "from math import gcd\n",
    "\n",
    "antinodes = set()\n",
    "nodes = defaultdict(list)\n",
    "for i, row in enumerate(data):\n",
    "\tfor j, cell in enumerate(row):\n",
    "\t\tif cell == \".\": continue\n",
    "\t\tfor x0, y0 in nodes[cell]:\n",
    "\t\t\tg = gcd(x0-i, y0-j)\n",
    "\t\t\tdx, dy = (x0-i)/g, (y0-j)/g\n",
    "\t\t\t\n",
    "\t\t\tctr = 0\n",
    "\t\t\twhile 0 <= i + ctr * dx < len(data) and 0 <= j + ctr * dy < len(row):\n",
    "\t\t\t\tantinodes.add((i + ctr * dx, j + ctr * dy))\n",
    "\t\t\t\tctr += 1\n",
    "\n",
    "\t\t\tctr = 1\n",
    "\t\t\twhile 0 <= i - ctr * dx < len(data) and 0 <= j - ctr * dy < len(row):\n",
    "\t\t\t\tantinodes.add((i - ctr * dx, j - ctr * dy))\n",
    "\t\t\t\tctr += 1\n",
    "\t\tnodes[cell].append((i, j))\n"
   ],
   "id": "d60dcd4d156ee484",
   "outputs": [],
   "execution_count": null
  },
  {
   "metadata": {},
   "cell_type": "code",
   "source": "print(len(antinodes))",
   "id": "7acf8abfc0c0738e",
   "outputs": [],
   "execution_count": null
  },
  {
   "metadata": {},
   "cell_type": "code",
   "source": [
    "otext = \"\"\n",
    "for i, row in enumerate(data):\n",
    "\tfor j, cell in enumerate(row):\n",
    "\t\tif (i, j) in antinodes: otext += \"*\"\n",
    "\t\telse: otext += cell\n",
    "\t\totext += \"  \"\n",
    "\totext += \"\\n\"\n",
    "with open(\"D8_out.txt\", \"w+\") as fl:\n",
    "\tfl.write(otext)\n",
    "\t\t\t\t"
   ],
   "id": "a1853c228938b6d7",
   "outputs": [],
   "execution_count": null
  },
  {
   "metadata": {},
   "cell_type": "code",
   "source": "",
   "id": "f9ae43d2a9b2fb24",
   "outputs": [],
   "execution_count": null
  }
 ],
 "metadata": {
  "kernelspec": {
   "display_name": "Python 3",
   "language": "python",
   "name": "python3"
  },
  "language_info": {
   "codemirror_mode": {
    "name": "ipython",
    "version": 2
   },
   "file_extension": ".py",
   "mimetype": "text/x-python",
   "name": "python",
   "nbconvert_exporter": "python",
   "pygments_lexer": "ipython2",
   "version": "2.7.6"
  }
 },
 "nbformat": 4,
 "nbformat_minor": 5
}
