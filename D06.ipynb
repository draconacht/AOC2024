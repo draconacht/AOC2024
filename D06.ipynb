{
 "cells": [
  {
   "metadata": {},
   "cell_type": "code",
   "source": [
    "with open(\"D06_inp.txt\") as fl:\n",
    "\tinp = fl.read().splitlines()"
   ],
   "id": "ede87b68b70681d0",
   "outputs": [],
   "execution_count": null
  },
  {
   "cell_type": "code",
   "id": "initial_id",
   "metadata": {
    "collapsed": true
   },
   "source": [
    "pos = None \n",
    "obstacles = set()\n",
    "for i, row in enumerate(inp):\n",
    "  for j, cell in enumerate(row):\n",
    "    if cell == \"^\":\n",
    "      pos = (i, j)\n",
    "    if cell == \"#\":\n",
    "      obstacles.add((i, j))\n",
    "\n",
    "DIRS = [(0, 1), (1, 0), (0, -1), (-1, 0)]"
   ],
   "outputs": [],
   "execution_count": null
  },
  {
   "metadata": {},
   "cell_type": "markdown",
   "source": "part 1",
   "id": "3aded4987568aeb3"
  },
  {
   "metadata": {},
   "cell_type": "code",
   "source": [
    "visited = {pos}\n",
    "x, y = pos\n",
    "dd = 3  # N\n",
    "dx, dy = DIRS[dd]\n",
    "while 0 <= x < len(inp) and 0 <= y < len(inp[0]):\n",
    "\tvisited.add((x, y))\n",
    "\twhile (x+dx, y+dy) in obstacles:\n",
    "\t\tdd = (dd + 1) % 4\n",
    "\t\tdx, dy = DIRS[dd]\n",
    "\tx, y = x+dx, y+dy\n",
    "print(len(visited))"
   ],
   "id": "b2e3b808541be755",
   "outputs": [],
   "execution_count": null
  },
  {
   "metadata": {},
   "cell_type": "markdown",
   "source": "part 2",
   "id": "5dcd37c44948ca1e"
  },
  {
   "metadata": {},
   "cell_type": "code",
   "source": [
    "def next_obstacle(x, y, dx, dy):\n",
    "\t#if (x, y, dx, dy) in cache:\n",
    "\t#  return cache[(x, y, dx, dy)]\n",
    "\n",
    "\tpath = []\n",
    "\twhile (x, y) not in obstacles:\n",
    "\t\t# print(\"@@\", x, y)\n",
    "\t\tif not(0 <= x < len(inp) and 0 <= y < len(inp)): return (-1, -1)\n",
    "\t\tpath.append((x, y))\n",
    "\t\tx += dx\n",
    "\t\ty += dy\n",
    "\t#for i, j in path:\n",
    "\t#  cache[(i, j, dx, dy)] = (x, y)\n",
    "\treturn (x, y)"
   ],
   "id": "ace11ca1eb7f06b9",
   "outputs": [],
   "execution_count": null
  },
  {
   "metadata": {},
   "cell_type": "code",
   "source": [
    "def will_cycle(x, y, dd):\n",
    "\tdx, dy = DIRS[dd]\n",
    "\tvisited = set()\n",
    "\twhile True:  # check for cycles from xi, yi\n",
    "\t\t# print(\"@\", x, y, \"+\", dx, dy)\n",
    "\t\tif not (0 <= x < len(inp) and 0 <= y < len(inp[0])): return False  # reached boundary\n",
    "\t\tif (x, y, dx, dy) in visited: return True\n",
    "\n",
    "\t\tvisited.add((x, y, dx, dy))\n",
    "\t\tox, oy = next_obstacle(x, y, dx, dy)\n",
    "\t\t# print(\">\", ox, oy)\n",
    "\n",
    "\t\tif (ox, oy) == (-1, -1): return False  # reached boundary, no obstacle\n",
    "\n",
    "\t\tx, y = ox-dx, oy-dy\n",
    "\t\twhile (x+dx, y+dy) in obstacles:\n",
    "\t\t\tdd = (dd + 1) % 4\n",
    "\t\t\tdx, dy = DIRS[dd]\n"
   ],
   "id": "eb98b38ca12c9e1f",
   "outputs": [],
   "execution_count": null
  },
  {
   "metadata": {},
   "cell_type": "code",
   "source": [
    "x, y = pos\n",
    "cyclers = set()\n",
    "visited = set()\n",
    "dd = 3\n",
    "dx, dy = DIRS[dd]\n",
    "while 0 <= x < len(inp) and 0 <= y < len(inp[0]):\n",
    "\tvisited.add((x, y))\n",
    "\twhile (x+dx, y+dy) in obstacles:\n",
    "\t\tdd = (dd + 1) % 4\n",
    "\t\tdx, dy = DIRS[dd]\n",
    "\tif (x + dx, y + dy) not in visited and len(inp) > x + dx >= 0 and len(inp[0]) > y + dy >= 0:\n",
    "\t\tobstacles.add((x+dx, y+dy))  # not an obstacle already, obviously.\n",
    "\t\tif will_cycle(x, y, (dd+1)%4):\n",
    "\t\t\tcyclers.add((x+dx, y+dy))\n",
    "\t\tobstacles.remove((x+dx, y+dy))\n",
    "\tx, y = x + dx, y + dy\n"
   ],
   "id": "e19ce1cad30bd0ce",
   "outputs": [],
   "execution_count": null
  },
  {
   "metadata": {},
   "cell_type": "code",
   "source": "print(len(cyclers))",
   "id": "d46482d855515e5d",
   "outputs": [],
   "execution_count": null
  }
 ],
 "metadata": {
  "kernelspec": {
   "display_name": "Python 3",
   "language": "python",
   "name": "python3"
  },
  "language_info": {
   "codemirror_mode": {
    "name": "ipython",
    "version": 2
   },
   "file_extension": ".py",
   "mimetype": "text/x-python",
   "name": "python",
   "nbconvert_exporter": "python",
   "pygments_lexer": "ipython2",
   "version": "2.7.6"
  }
 },
 "nbformat": 4,
 "nbformat_minor": 5
}
