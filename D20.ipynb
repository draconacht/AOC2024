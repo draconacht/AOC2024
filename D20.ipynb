{
 "cells": [
  {
   "cell_type": "code",
   "metadata": {},
   "source": [
    "from collections import defaultdict\n",
    "from functools import *\n",
    "from itertools import *\n",
    "from operator import *\n",
    "from typing import NamedTuple\n",
    "\n",
    "class XY(NamedTuple):\n",
    "\tx: int\n",
    "\ty: int\n",
    "\n",
    "\tdef __add__(self, other):\n",
    "\t\treturn XY(self.x + other.x, self.y + other.y)\n",
    "\tdef __sub__(self, other):\n",
    "\t\treturn XY(self.x - other.x, self.y - other.y)\n",
    "\tdef __mul__(self, other: int):\n",
    "\t\treturn XY(self.x * other, self.y * other)\n",
    "\tdef __rmul__(self, other: int):\n",
    "\t\treturn XY(self.x * other, self.y * other)\n",
    "\tdef __eq__(self, other):\n",
    "\t\treturn self.x == other.x and self.y == other.y"
   ],
   "outputs": [],
   "execution_count": null
  },
  {
   "cell_type": "code",
   "metadata": {},
   "source": [
    "with open(\"D20_inp.txt\") as fl:\n",
    "  inp = fl.read()\n",
    "\n",
    "THRESHOLD = 100\n",
    "THRESHOLD_2 = 100"
   ],
   "outputs": [],
   "execution_count": null
  },
  {
   "cell_type": "code",
   "metadata": {},
   "source": [
    "inp=\"\"\"###############\n",
    "#...#...#.....#\n",
    "#.#.#.#.#.###.#\n",
    "#S#...#.#.#...#\n",
    "#######.#.#.###\n",
    "#######.#.#...#\n",
    "#######.#.###.#\n",
    "###..E#...#...#\n",
    "###.#######.###\n",
    "#...###...#...#\n",
    "#.#####.#.###.#\n",
    "#.#...#.#.#...#\n",
    "#.#.#.#.#.#.###\n",
    "#...#...#...###\n",
    "###############\"\"\"\n",
    "\n",
    "THRESHOLD = 12\n",
    "THRESHOLD_2 = 72"
   ],
   "outputs": [],
   "execution_count": null
  },
  {
   "cell_type": "code",
   "metadata": {},
   "source": [
    "data = inp.splitlines()\n",
    "len_x, len_y = len(data), len(data[0])\n",
    "\n",
    "dirs = [XY(0, 1), XY(1, 0), XY(0, -1), XY(-1, 0)]  # E S W N\n"
   ],
   "outputs": [],
   "execution_count": null
  },
  {
   "cell_type": "code",
   "metadata": {},
   "source": [
    "start, end = None, None \n",
    "scores = [[10 ** 8] * len_y for _ in range(len_x)]\n",
    "\n",
    "for i, row in enumerate(data):\n",
    "  for j, cell in enumerate(row):\n",
    "    if cell == 'S': start = XY(i, j)\n",
    "    if cell == 'E': end = XY(i, j)\n",
    "\n",
    "def in_bounds(xy: XY):\n",
    "  return 0 <= xy.x < len_x and 0 <= xy.y < len_y"
   ],
   "outputs": [],
   "execution_count": null
  },
  {
   "cell_type": "code",
   "metadata": {},
   "source": [
    "layer, next_layer = set(), {start}\n",
    "depth = -1\n",
    "n_skips = 0\n",
    "\n",
    "while next_layer:\n",
    "  layer, next_layer = next_layer, set()\n",
    "  depth += 1 \n",
    "\n",
    "  for node in layer:\n",
    "    if data[node.x][node.y] == '#': continue\n",
    "    scores[node.x][node.y] = min(scores[node.x][node.y], depth)\n",
    "    neighbours = [node+dir_ for dir_ in dirs]\n",
    "    neighbours = [x for x in neighbours if in_bounds(x) and scores[x.x][x.y] > depth]\n",
    "    next_layer.update(neighbours)\n",
    "\n",
    "    skips = [node + 2*dir_ for dir_ in dirs]\n",
    "    skips = [scores[node.x][node.y] - scores[x.x][x.y] - 2 for x in skips if in_bounds(x) and data[x.x][x.y] != '#']\n",
    "    n_skips += len([skip for skip in skips if skip >= THRESHOLD])\n",
    "print(n_skips)\n"
   ],
   "outputs": [],
   "execution_count": null
  },
  {
   "cell_type": "code",
   "metadata": {},
   "source": [
    "scoremax = 1.2 * max(max(cell if cell < 10 ** 8 else 0 for cell in row) for row in scores)\n",
    "for i, j in product([*range(len_x)], [*range(len_y)]):\n",
    "  if scores[i][j] == 10 ** 8:\n",
    "    scores[i][j] = scoremax"
   ],
   "outputs": [],
   "execution_count": null
  },
  {
   "cell_type": "code",
   "metadata": {},
   "source": [
    "import seaborn as sns\n",
    "\n",
    "sns.heatmap(scores)"
   ],
   "outputs": [],
   "execution_count": null
  },
  {
   "cell_type": "markdown",
   "metadata": {},
   "source": [
    "part 2"
   ]
  },
  {
   "cell_type": "code",
   "metadata": {},
   "source": [
    "def parse_bbox(i, j):\n",
    "  depth = -1\n",
    "  layer, next_layer = set(), {XY(i, j)} \n",
    "\n",
    "  score_start = scores[i][j]\n",
    "  ends = []\n",
    "\n",
    "  visited = set()\n",
    "  while depth < 20:\n",
    "    layer, next_layer = next_layer, set()\n",
    "    depth += 1\n",
    "\n",
    "    for node in layer:\n",
    "      if node in visited: continue\n",
    "      visited.add(node)\n",
    "      \n",
    "      if data[node.x][node.y] != '#' and scores[node.x][node.y] - (score_start + depth) >= THRESHOLD_2: \n",
    "        ends.append(node)\n",
    "\n",
    "      neighbours = [node+ dir_ for dir_ in dirs]\n",
    "      neighbours = [x for x in neighbours if in_bounds(x)]\n",
    "      next_layer.update(neighbours)\n",
    "\n",
    "  return ends"
   ],
   "outputs": [],
   "execution_count": null
  },
  {
   "cell_type": "code",
   "metadata": {},
   "source": [
    "layer, next_layer = set(), {start}\n",
    "depth = -1\n",
    "\n",
    "ends = defaultdict(lambda: list())\n",
    "while next_layer:\n",
    "  layer, next_layer = next_layer, set()\n",
    "  depth += 1\n",
    "\n",
    "  for node in layer:\n",
    "    print(node)\n",
    "    ends[node] += parse_bbox(node.x, node.y)\n",
    "    neighbours = [node+ dir_ for dir_ in dirs]\n",
    "    neighbours = [x for x in neighbours if in_bounds(x) and scores[x.x][x.y] > depth and data[node.x][node.y] != '#']\n",
    "    next_layer.update(neighbours)\n",
    "\n",
    "#print(\"\\n\".join(map(str, ends.items())))\n",
    "print(sum(map(len, ends.values())))"
   ],
   "outputs": [],
   "execution_count": null
  }
 ],
 "metadata": {
  "kernelspec": {
   "display_name": ".venv",
   "language": "python",
   "name": "python3"
  },
  "language_info": {
   "codemirror_mode": {
    "name": "ipython",
    "version": 3
   },
   "file_extension": ".py",
   "mimetype": "text/x-python",
   "name": "python",
   "nbconvert_exporter": "python",
   "pygments_lexer": "ipython3",
   "version": "3.13.0"
  }
 },
 "nbformat": 4,
 "nbformat_minor": 2
}
